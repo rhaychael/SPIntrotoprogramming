{
  "nbformat": 4,
  "nbformat_minor": 0,
  "metadata": {
    "colab": {
      "name": "Topic 1: Python Basic.ipynb",
      "provenance": [],
      "collapsed_sections": []
    },
    "kernelspec": {
      "name": "python3",
      "display_name": "Python 3"
    }
  },
  "cells": [
    {
      "cell_type": "markdown",
      "metadata": {
        "id": "oh1rVTED77K8"
      },
      "source": [
        "# **This is Basic Python Programming**\n",
        "Let's learn python today"
      ]
    },
    {
      "cell_type": "code",
      "metadata": {
        "id": "EGBA4TnW8GdF",
        "colab": {
          "base_uri": "https://localhost:8080/",
          "height": 35
        },
        "outputId": "298d3d6c-d710-4688-cf2c-c8cd94b017e6"
      },
      "source": [
        "name = input(\"Enter your name\")"
      ],
      "execution_count": null,
      "outputs": [
        {
          "output_type": "stream",
          "text": [
            "Enter your name1234\n"
          ],
          "name": "stdout"
        }
      ]
    },
    {
      "cell_type": "code",
      "metadata": {
        "id": "6_Nc2RkXBBEU",
        "colab": {
          "base_uri": "https://localhost:8080/",
          "height": 35
        },
        "outputId": "ec7f3616-8c4f-46de-b837-6f9a30c65e51"
      },
      "source": [
        "name"
      ],
      "execution_count": null,
      "outputs": [
        {
          "output_type": "execute_result",
          "data": {
            "application/vnd.google.colaboratory.intrinsic+json": {
              "type": "string"
            },
            "text/plain": [
              "'1234'"
            ]
          },
          "metadata": {
            "tags": []
          },
          "execution_count": 11
        }
      ]
    },
    {
      "cell_type": "code",
      "metadata": {
        "id": "EnQ0TIrU_mrz",
        "colab": {
          "base_uri": "https://localhost:8080/",
          "height": 52
        },
        "outputId": "1bdfe775-b793-4212-9867-e7dfebadfc85"
      },
      "source": [
        "print(\"Hello \" + name)\n",
        "print(\"Hello \" , name)"
      ],
      "execution_count": null,
      "outputs": [
        {
          "output_type": "stream",
          "text": [
            "Hello Ronnie\n",
            "Hello  Ronnie\n"
          ],
          "name": "stdout"
        }
      ]
    },
    {
      "cell_type": "code",
      "metadata": {
        "id": "YAdpT83wBXT_",
        "colab": {
          "base_uri": "https://localhost:8080/",
          "height": 68
        },
        "outputId": "ae36fddd-a8aa-4279-fa31-f445bfa3269e"
      },
      "source": [
        "length = input(\"Enter length\")\n",
        "breadth = input('Enter breadth')\n",
        "length = int(length)\n",
        "breadth = int(breadth)\n",
        "print(length + breadth)"
      ],
      "execution_count": null,
      "outputs": [
        {
          "output_type": "stream",
          "text": [
            "Enter length5\n",
            "Enter breadth7\n",
            "12\n"
          ],
          "name": "stdout"
        }
      ]
    },
    {
      "cell_type": "markdown",
      "metadata": {
        "id": "jjHTO5G8FCDu"
      },
      "source": [
        "Question 1:"
      ]
    },
    {
      "cell_type": "code",
      "metadata": {
        "id": "Cdju0RwNFG4E",
        "colab": {
          "base_uri": "https://localhost:8080/",
          "height": 51
        },
        "outputId": "34bfdad3-b38e-432a-ea4f-68b3780e09f8"
      },
      "source": [
        "name = input (\"Enter your name:\")\n",
        "print( \"Hello,\", name)"
      ],
      "execution_count": null,
      "outputs": [
        {
          "output_type": "stream",
          "text": [
            "Enter your name:Ronnie\n",
            "Hello, Ronnie\n"
          ],
          "name": "stdout"
        }
      ]
    },
    {
      "cell_type": "markdown",
      "metadata": {
        "id": "-OxjuPhSFxWS"
      },
      "source": [
        "Question 2"
      ]
    },
    {
      "cell_type": "code",
      "metadata": {
        "id": "n9fYW7uCFvoq",
        "colab": {
          "base_uri": "https://localhost:8080/",
          "height": 68
        },
        "outputId": "6fe75319-d965-4e93-8ff4-f3b0e9363837"
      },
      "source": [
        "#Prompt the user for the length of the square\n",
        "length = input(\"Enter the length of a square\")\n",
        "#Convert the length (str) into float bcos string cannot do math operation\n",
        "#Assign it back to length\n",
        "length = float(length)\n",
        "#Let's check the type of float here\n",
        "print(type(length))\n",
        "#Calculate the area and store its value for later use\n",
        "area = length * length\n",
        "print(\"Area of square is: {:.2f}\".format(area))"
      ],
      "execution_count": null,
      "outputs": [
        {
          "output_type": "stream",
          "text": [
            "Enter the length of a square4.876\n",
            "<class 'float'>\n",
            "Area of square is: 23.78\n"
          ],
          "name": "stdout"
        }
      ]
    },
    {
      "cell_type": "markdown",
      "metadata": {
        "id": "dwZhknfEN3Or"
      },
      "source": [
        "Example of import: Generating random numbers"
      ]
    },
    {
      "cell_type": "code",
      "metadata": {
        "id": "ncS4adaNOBVK",
        "colab": {
          "base_uri": "https://localhost:8080/",
          "height": 34
        },
        "outputId": "439649e9-8686-432c-a532-88e7600fcf36"
      },
      "source": [
        "#We need the random library (consist of many features(functions) we can use)\n",
        "import random\n",
        "#We use the randint feature in the random library\n",
        "value_1 = random.randint(10,20)\n",
        "\n",
        "print(\"Tne random number is {}\".format(value_1))"
      ],
      "execution_count": null,
      "outputs": [
        {
          "output_type": "stream",
          "text": [
            "Tne random number is 10\n"
          ],
          "name": "stdout"
        }
      ]
    },
    {
      "cell_type": "markdown",
      "metadata": {
        "id": "a1cYN6GPSwYV"
      },
      "source": [
        "Get Date and time"
      ]
    },
    {
      "cell_type": "code",
      "metadata": {
        "id": "d4D27h7nSvHs",
        "colab": {
          "base_uri": "https://localhost:8080/",
          "height": 34
        },
        "outputId": "086bee71-a614-4782-abc3-89f980824588"
      },
      "source": [
        "import datetime\n",
        "\n",
        "date_1 = datetime.datetime.today()\n",
        "\n",
        "type(date_1)\n",
        "date_1."
      ],
      "execution_count": null,
      "outputs": [
        {
          "output_type": "execute_result",
          "data": {
            "text/plain": [
              "datetime.datetime"
            ]
          },
          "metadata": {
            "tags": []
          },
          "execution_count": 31
        }
      ]
    },
    {
      "cell_type": "code",
      "metadata": {
        "id": "RZ-6uEbi1ebo",
        "colab": {
          "base_uri": "https://localhost:8080/",
          "height": 68
        },
        "outputId": "c9f4d714-ce52-4005-c4ef-22efb9b45163"
      },
      "source": [
        "#Prompt for weight\n",
        "weight = input(\"Enter your weight: \")\n",
        "weight = float(weight) #convert string to float\n",
        "#Prompt for height\n",
        "height = input (\"Enter your height: \")\n",
        "height = float(weight) #convert str to float\n",
        "#Calculate the BMI based formula\n",
        "BMI = weight / (height*height)\n",
        "#Show the BMI \n",
        "# print(\"You BMI is \" , BMI)\n",
        "# print(\" Your BMI is \" + str(BMI))\n",
        "print(\" Your BMI is {:.2f}\".format(BMI))"
      ],
      "execution_count": null,
      "outputs": [
        {
          "output_type": "stream",
          "text": [
            "Enter your weight: 56\n",
            "Enter your height: 1.2\n",
            " Your BMI is 0.02\n"
          ],
          "name": "stdout"
        }
      ]
    },
    {
      "cell_type": "code",
      "metadata": {
        "id": "XopUC7QM6EP7",
        "colab": {
          "base_uri": "https://localhost:8080/",
          "height": 51
        },
        "outputId": "383c19f3-1ff4-4d5f-804b-4e6241cb2791"
      },
      "source": [
        "import time\n",
        "#Prompt for amount of life to waste\n",
        "time_to_wait = float(input(\"Enter the number of seconds to count down\"))\n",
        "#Wait for that duration\n",
        "time.sleep(time_to_wait)\n",
        "#Show that the wait has finished\n",
        "print(\"Time is up\")"
      ],
      "execution_count": null,
      "outputs": [
        {
          "output_type": "stream",
          "text": [
            "Enter the number of seconds to count down2.5\n",
            "Time is up\n"
          ],
          "name": "stdout"
        }
      ]
    },
    {
      "cell_type": "code",
      "metadata": {
        "id": "c2RFUuq29SGt",
        "colab": {
          "base_uri": "https://localhost:8080/",
          "height": 51
        },
        "outputId": "a766296f-d791-42c3-b7dd-088af2b6bde3"
      },
      "source": [
        "from datetime import datetime\n",
        "from dateutil import relativedelta\n",
        "# 1.\tstore the current date in a variable date_today\n",
        "date_today = datetime.today()\n",
        "# 2.\tPrompt the user with a message “Please enter the due date of the assignment” \n",
        "# 3.\tStore the user’s input in a variable named assignment_duedate\n",
        "due_date = input(\"Please enter the due date of the assignment(dd-mm-yyyy)\")\n",
        "#convert the input to datetime object\n",
        "due_date = datetime.strptime(due_date, \"%d-%m-%Y\")\n",
        "\n",
        "#This will find the difference between the two dates\n",
        "diff = relativedelta.relativedelta(due_date, date_today)\n",
        "\n",
        "# 4.\tCalculate the number of months and days between date_today and assignment_duedate, and store the result in the variable number_of_months and number_of_days\n",
        "# 5.\tDisplay the result to the user as shown in the diagram below\n",
        "print(\"{} months {} days till your assignment due\".format(diff.months, diff.days))\n"
      ],
      "execution_count": null,
      "outputs": [
        {
          "output_type": "stream",
          "text": [
            "Please enter the due date of the assignment(dd-mm-yyyy)01-12-2020\n",
            "1 months 2 days till your assignment due\n"
          ],
          "name": "stdout"
        }
      ]
    },
    {
      "cell_type": "code",
      "metadata": {
        "id": "JkJFogLyEowM",
        "colab": {
          "base_uri": "https://localhost:8080/",
          "height": 120
        },
        "outputId": "dd17d3a9-e6bb-4ba9-8538-9399c00a044f"
      },
      "source": [
        "# 1.\tprompt the user to enter four numbers and store them in the variables n1,n2,n3 and n4\n",
        "n1 = float(input(\"Enter n1: \"))\n",
        "n2 = float(input(\"Enter n2: \"))\n",
        "n3 = float(input(\"Enter n3: \"))\n",
        "n4 = float(input(\"Enter n4: \"))\n",
        "# 2.\tadd up the four numbers and store the calculated value in the variable add\n",
        "add = n1 + n2 + n3 + n4\n",
        "# 3.\tsubtract n4 from n1 and store the calculated value in the variable difference\n",
        "difference = n4 - n1\n",
        "# 4.\tmultiply n2 by n3 and store the calculated value in the variable product\n",
        "product = n2 * n3\n",
        "# 5.\tdivide the sum of n1 and n2 by the sum of n3 and n4, and store the calculated value in the variable quotient\n",
        "quotient = (n1 + n2)/(n3 + n4)\n",
        "# 6.\tfind the remainder of the product of n1 and n2, divided by the product of n3 and n4 and store in the value remainder\n",
        "remainder = (n1 * n2)%(n3 * n4)\n",
        "# 7.\tcalculate n1 to the power of n2 and store in the variable power\n",
        "power = n1 ** n2\n",
        "# 8.\tprint out the outputs as shown in the diagram below\n",
        "print(\"The 4 numbers are {},{},{},{}\".format(n1,n2,n3,n4))\n",
        "print(\"Sum is {}\".format(add))\n"
      ],
      "execution_count": null,
      "outputs": [
        {
          "output_type": "stream",
          "text": [
            "Enter n1: 3\n",
            "Enter n2: 4\n",
            "Enter n3: 5\n",
            "Enter n4: 6\n",
            "The 4 numbers are 3.0,4.0,5.0,6.0\n",
            "Sum is 18.0\n"
          ],
          "name": "stdout"
        }
      ]
    },
    {
      "cell_type": "code",
      "metadata": {
        "id": "Vgkr9jTGKjUX",
        "colab": {
          "base_uri": "https://localhost:8080/",
          "height": 86
        },
        "outputId": "4d69f517-eeac-460c-9e19-792fb52bcc02"
      },
      "source": [
        "import math\n",
        "# 1.\tprompt the user to enter four numbers and store them in the variables n1,n2,n3 and n4\n",
        "n1 = float(input(\"Enter n1: \"))\n",
        "n2 = float(input(\"Enter n2: \"))\n",
        "n3 = float(input(\"Enter n3: \"))\n",
        "n4 = float(input(\"Enter n4: \"))\n",
        "# 2.\tPerform the following operations on each variable as specified below.\n",
        "# 3.\tCalculate the square root of n1 and store the value of the result to a variable n1_squareroot. Print out the ceiling value of n1_squareroot.\n",
        "n1_squareroot = math.sqrt(n1)\n",
        "print(\"The square root of {} is {}\".format(n1.n1_squareroot))\n",
        "print(\"The ceiling of {} is {}\".format(n1,math.ceil(n1_squareroot)))\n",
        "# 4.\tMultiply n2 by the mathematical value of pi and store the result to a variable n2_times_pi. . \n",
        "# Print out the truncated value of n2_times_pi. \n",
        "n2_times_pi = n2 * math.pi\n",
        "# 5.\tCalculate the value of n3 to the power of n1 and store the result to n3_powerof_n1. \n",
        "# Print out the floor value of n3_powerof_n1.\n",
        "n3_powerof_n1 = math.pow(n3,n1)\n",
        "\n",
        "# 6.\tCompute the factorial of n4 and store the result to a variable n4_factorial.  \n",
        "# Divide n4_factorial by n3  and store the result to n4n3.  \n",
        "# Compute the fractional and integer parts of n4n3 and print out their values.\n",
        "n4_factorial = math.factorial(n4)\n",
        "n4n3 = n4_factorial/n3\n",
        "fraction , integer = math.modf(n4n3)\n",
        "print(fraction)\n",
        "print(integer)\n"
      ],
      "execution_count": null,
      "outputs": [
        {
          "output_type": "stream",
          "text": [
            "Enter n1: 5\n",
            "Enter n2: 5\n",
            "Enter n3: 5\n",
            "Enter n4: 5\n"
          ],
          "name": "stdout"
        }
      ]
    },
    {
      "cell_type": "markdown",
      "metadata": {
        "id": "TOtXoYNiQe0t"
      },
      "source": [
        "Q5 Task 1"
      ]
    },
    {
      "cell_type": "code",
      "metadata": {
        "id": "0MANdY3PQeGB"
      },
      "source": [
        "# 1.\tprompt the user to enter three string variables and store them in s1, s2 and s3\n",
        "s1 = input(\"Enter string 1:\")\n",
        "s2 = input(\"Enter string 2:\")\n",
        "s3 = input(\"Enter string 3:\")\n",
        "\n",
        "# 2.\tprint out the length of all the three strings\n",
        "print(\"Length of s1 {} is {}\".format(s1,len(s1)))\n",
        "# 3.\tprint out s1 in all capital letters\n",
        "print(\"Capitalisation of s1 is {}\".format(s1.upper()))\n",
        "# 4.\tlocate letter a in s2 and print out the index if found or print “The letter a is not found in s2” if not found\n",
        "index = s2.find('a')\n",
        "if (index >= 0):\n",
        "  print(\"Found at index: {}\".format(index))\n",
        "else:\n",
        "  print(\"Not found\")\n",
        "# 5.\textract the first 2 characters from s3 and print them out\n",
        "print(\"The first 2 character of s3 is {}\".format(s3[0:2]))\n"
      ],
      "execution_count": null,
      "outputs": []
    },
    {
      "cell_type": "code",
      "metadata": {
        "id": "0hrCFiuK1PXa",
        "colab": {
          "base_uri": "https://localhost:8080/"
        },
        "outputId": "f096d251-f8e0-49bd-f102-214db9fa5d24"
      },
      "source": [
        "# Ask the user for a number. \n",
        "n = input(\"Please enter a number: \")\n",
        "# If the input is not numeric, \n",
        "if not n.isnumeric():\n",
        "  # display an error message and\n",
        "  print(\"Wrong! It is not a number! Bye!\") \n",
        "  # exit the program. Hint: use the isnumeric() function.\n",
        "if n.isnumeric():\n",
        "# If the input is numeric, \n",
        "  if not (int(n) % 2 == 0):\n",
        "  # check if the number is even or odd and \n",
        "    print(\"{} is Odd\".format(n))\n",
        "  else:\n",
        "    print(\"{} is Even\".format(n))\n",
        "  # print out an appropriate message to the user.  Hint: Use the % modulus operator which gives the remainder when a number x is divided by another number y.\n"
      ],
      "execution_count": null,
      "outputs": [
        {
          "output_type": "stream",
          "text": [
            "Please enter a number: 6\n",
            "6 is Even\n"
          ],
          "name": "stdout"
        }
      ]
    },
    {
      "cell_type": "code",
      "metadata": {
        "id": "5Hpr6PiJ-HeT",
        "colab": {
          "base_uri": "https://localhost:8080/"
        },
        "outputId": "e8757fd1-f0ef-4668-d5e4-9ef752c7228f"
      },
      "source": [
        "# ask the user for a message and\n",
        "str = input(\"Please enter a message: \") \n",
        "#the number of times they want that message displayed. \n",
        "n = int(input(\"Please enter a the no of time to repeat: \"))\n",
        "#Then output the message that number of times.\n",
        "for i in range(0,int(n),1):\n",
        "  print(str)"
      ],
      "execution_count": null,
      "outputs": [
        {
          "output_type": "stream",
          "text": [
            "Please enter a message: hello\n",
            "Please enter a the no of time to repeat: 5\n",
            "hello\n",
            "hello\n",
            "hello\n",
            "hello\n"
          ],
          "name": "stdout"
        }
      ]
    },
    {
      "cell_type": "code",
      "metadata": {
        "id": "jMCfVT2MAXYS",
        "colab": {
          "base_uri": "https://localhost:8080/"
        },
        "outputId": "fb684d68-a7b5-43da-a9c0-81ede1c8fe4f"
      },
      "source": [
        "from time import sleep\n",
        "# prompt the user to enter the number of seconds he wishes to count down\n",
        "n = int(input(\"Please enter a the no of sec to countdown: \"))\n",
        "#indicate how long there is to go before time runs outs. \n",
        "#I\n",
        "count = n\n",
        "#C\n",
        "while(count > 0):\n",
        "  #U\n",
        "  print(count)\n",
        "  sleep(1)\n",
        "  count -= 1\n",
        "\n",
        "#When time runs out it should display “Time is up!”\n",
        "print(\"Times up!!\")"
      ],
      "execution_count": null,
      "outputs": [
        {
          "output_type": "stream",
          "text": [
            "Please enter a the no of sec to countdown: 5\n",
            "5\n",
            "4\n",
            "3\n",
            "2\n",
            "1\n",
            "Times up!!\n"
          ],
          "name": "stdout"
        }
      ]
    },
    {
      "cell_type": "markdown",
      "metadata": {
        "id": "QjXWUZmTHshc"
      },
      "source": [
        "shorturl.at/hqyC5"
      ]
    },
    {
      "cell_type": "code",
      "metadata": {
        "id": "T6BFkii-_9Ec",
        "colab": {
          "base_uri": "https://localhost:8080/"
        },
        "outputId": "069262bf-1052-442c-bb33-e27876512919"
      },
      "source": [
        "import random\n",
        "# •\tAsk the user to select the lower limit and the upper limit that the random number should be generated within\n",
        "low = input(\"Enter lower limit : \")\n",
        "high = input(\"Enter upper limit : \")\n",
        "# •\tAfter obtaining the lower and upper limits, generate a random number between \n",
        "#   that range, and store it in a variable named secret_number\n",
        "r = random.randint(int(low),int(high))\n",
        "# •\tWrite a loop that repeatedly performs the following actions until\n",
        "# the user guesses the random number correctly\n",
        "guess = 0\n",
        "while not guess == r:\n",
        "  # a.\tPrompt the user to guess the value of the number\n",
        "  guess = int(input(\"Guess a number between \" + low + \" and \" + high + \" : \"))\n",
        "  # b.\tIf his guess is higher than the actual random number, print “Too high”\n",
        "  if guess > r:\n",
        "    print(\"Too high\")\n",
        "  # c.\tIf his guess is lower than the actual random number, print “Too low”\n",
        "  if guess < r:\n",
        "    print(\"Too low\")\n",
        "  # d.\tIf his guess is equal to the random number, print “You are right!” and exit the loop\n",
        "  if guess == r:\n",
        "    print(\"You are right\")"
      ],
      "execution_count": null,
      "outputs": [
        {
          "output_type": "stream",
          "text": [
            "Enter lower limit :1\n",
            "Enter upper limit :5\n",
            "Guess a number between 1and 51\n",
            "Too low\n",
            "Guess a number between 1and 55\n",
            "Too high\n",
            "Guess a number between 1and 53\n",
            "You are right\n"
          ],
          "name": "stdout"
        }
      ]
    },
    {
      "cell_type": "code",
      "metadata": {
        "id": "TMSkpb44HMhT",
        "colab": {
          "base_uri": "https://localhost:8080/"
        },
        "outputId": "28d31bad-5fb7-4738-92fe-5be5f5d3be96"
      },
      "source": [
        "# Given:\n",
        "a = [1, 1, 2, 3, 5, 8, 13, 21, 34, 55, 89]\n",
        "print (\"Given : \",a)\n",
        "# prints out all the elements of the list that are less than 5.\n",
        "print(\"Items < 5\")\n",
        "for n in a:\n",
        "  if n < 5:\n",
        "    print(n)"
      ],
      "execution_count": null,
      "outputs": [
        {
          "output_type": "stream",
          "text": [
            "Given :  [1, 1, 2, 3, 5, 8, 13, 21, 34, 55, 89]\n",
            "Items < 5\n",
            "1\n",
            "1\n",
            "2\n",
            "3\n"
          ],
          "name": "stdout"
        }
      ]
    },
    {
      "cell_type": "code",
      "metadata": {
        "id": "dYT0T_0zOUQo",
        "colab": {
          "base_uri": "https://localhost:8080/"
        },
        "outputId": "f5d93b49-21d0-497e-9bfd-71c9275ba694"
      },
      "source": [
        "number = [] # define a 2list object\n",
        "# prompts the user to enter a list of 10 numbers\n",
        "for i in range(1,11):\n",
        "  n = input(\"enter a number {} : \".format(i))\n",
        "  number.append(int(n))\n",
        "# prints out the maximum and minimum values that were entered.\n",
        "print(\"Max: {}\".format(max(number)))\n",
        "print(\"Min: {}\".2format(min(number)))\n",
        "# print out the list in sorted reverse order (highest numbers first)\n",
        "number.sort()\n",
        "number.reverse()\n",
        "print(\"Sorted in reverse :\", number)"
      ],
      "execution_count": null,
      "outputs": [
        {
          "output_type": "stream",
          "text": [
            "enter a number 1 : 6\n",
            "enter a number 2 : \n",
            "enter a number 3 : 4\n",
            "enter a number 4 : 5\n",
            "enter a number 5 : 6\n",
            "enter a number 6 : 8\n",
            "enter a number 7 : 9\n",
            "enter a number 8 : 0\n",
            "enter a number 9 : 1\n",
            "enter a number 10 : 2\n",
            "Max: 10\n",
            "Min: 1\n",
            "Sorted in reverse : [10, 9, 8, 7, 6, 5, 4, 3, 2, 1]\n"
          ],
          "name": "stdout"
        }
      ]
    },
    {
      "cell_type": "markdown",
      "metadata": {
        "id": "aZ2bAWYrQ7no"
      },
      "source": [
        "## Task 3: List Slicing\n",
        "\n",
        "Given the three Python lists below,  provide the code that will retrieve the required elements in each list.\n",
        "\n",
        "```\n",
        "list_1 = [300,50,80,90,199,800,74,33]\n",
        "\n",
        "list_2 = ['Apple','Banana','Durian','Grapes','Papaya','Watermelon']\n",
        "\n",
        "list_3 = [0.0, 1.1, 2.2, 3.3, 4.4, 5.5, 6.6, 7.7, 8.8,9.9]\n",
        "\n",
        "\n",
        "\n",
        "```\n",
        "\n",
        "\n",
        "\n",
        "\n",
        "(a)\tThe numbers 800, 74 and 33 in list_1\n",
        "(b)\tThe last two elements in list_2\n",
        "(c)\tAll the elements in list_3 except the first and the last\n"
      ]
    },
    {
      "cell_type": "code",
      "metadata": {
        "id": "CH4tOg5AQ4Ae",
        "colab": {
          "base_uri": "https://localhost:8080/"
        },
        "outputId": "3cae0371-9a49-48ce-a004-31ebbf56275f"
      },
      "source": [
        "list_1 = [300,50,80,90,199,800,74,33]\n",
        "list_2 = ['Apple','Banana','Durian','Grapes','Papaya','Watermelon']\n",
        "list_3 = [0.0, 1.1, 2.2, 3.3, 4.4, 5.5, 6.6, 7.7, 8.8,9.9]\n",
        "\n",
        "# (a)\tThe numbers 800, 74 and 33 in list_1\n",
        "print(list_1[5:8])\n",
        "# (b)\tThe last two elements in list_2\n",
        "print(list_2[-2:])\n",
        "# (c)\tAll the elements in list_3 except the first and the last\n",
        "print(list_3[1:-1])"
      ],
      "execution_count": null,
      "outputs": [
        {
          "output_type": "stream",
          "text": [
            "[800, 74, 33]\n",
            "['Papaya', 'Watermelon']\n",
            "[1.1, 2.2, 3.3, 4.4, 5.5, 6.6, 7.7, 8.8]\n"
          ],
          "name": "stdout"
        }
      ]
    },
    {
      "cell_type": "code",
      "metadata": {
        "id": "f3LKPvfWSh1j"
      },
      "source": [
        "list_students1 = ['Ann', 'Brandon', 'Christine', 'Daniel', 'Eileen', 'Francis', 'Gloria', 'Henry', 'Irene', 'John']\n",
        "list_weights1 = [45,90,52,75, 48, 65, 60, 85, 49, 100]\n",
        "list_heights1 = [1.54, 1.85, 1.66, 1.75, 1.58, 1.71, 1.68, 1.78, 1.62, 1.88]   \n",
        "\n",
        "# 1)\tuse a for loop to prompt the user to enter the names, weights and heights of \n",
        "#5 more students, storing the inputs into the list_students2, list_weights2 and list_heights2 variables respectively\n",
        "\n",
        "list_students2 = []\n",
        "list_heights2 = []\n",
        "list_weights2 = []\n",
        "for i in range (1,6):\n",
        "  name = input(\"Enter name for studnet {} :\".format(i))\n",
        "  weight = float(input(\"Enter weight for studnet {} :\".format(i)))\n",
        "  height = float(input(\"Enter height for studnet {} :\".format(i)))\n",
        "  list_students2.append(name)\n",
        "  list_heights2.append(weight)\n",
        "  list_weights2.append(height)\n",
        "\n",
        "#outside the loop\n",
        "# 2)\tcombine list_students1 and list_students2 into a single list named list_students_all\n",
        "list_students_all = list_students1 + list_students2\n",
        "# 3)\tcombine list_weights1 and list_weights2 into a single list named list_weights_all\n",
        "list_weights_all = list_weights1 + list_weights2\n",
        "# 4)\tcombine list_heights1 and list_heights2 into a single list named list_heights_all\n",
        "list_heights_all = list_heights1 + list_heights2\n",
        "# 5)\tuse a for loop to calculate the BMIs of the 15 students, and store them in a list variable named list_bmis_all. (BMI is obtained by weight/height2)\n",
        "list_bmis_all = []\n",
        "for i in range(len(list_students_all)):\n",
        "  bmi = list_weights_all[i]/(list_heights_all[i]**2)\n",
        "  list_bmis_all.append(bmi)\n",
        "\n",
        "# 6)\tprint out the student with the highest BMI and lowest BMI as shown\n",
        "print(\"MAX: {}\".format(max(list_bmis)))\n",
        "print(\"MIN: {}\".format(min(list_bmis)))\n"
      ],
      "execution_count": null,
      "outputs": []
    },
    {
      "cell_type": "code",
      "metadata": {
        "id": "XcrySkKSYvb_"
      },
      "source": [
        "#Scissor Paper Stone\n",
        "def compare(s1, s2):\n",
        "  if s1 == s2:\n",
        "    return \"It's a tie!!\", False\n",
        "  elif s1 == 'scissors' and s2 == 'paper':\n",
        "    return 'Scissors wins!!', False\n",
        "  elif s1 == 'scissors' and s2 == 'stone':\n",
        "    return 'Scissors wins!!', False\n",
        "  elif s1 == 'paper' and s2 == 'scissors':\n",
        "    return 'Scissors wins!!', False\n",
        "  elif s1 == 'paper' and s2 == 'stone':\n",
        "    return 'Paper wins!!', False\n",
        "  elif s1 == 'stone' and s2 == 'paper':\n",
        "    return 'Paper wins!!', False\n",
        "  elif s1 == 'stone' and s2 == 'scissors':\n",
        "    return 'Stone wins!!', False\n",
        "  elif s1 == 'quit' or s2 == 'quit':\n",
        "    return 'Quit!', True\n",
        "  else:\n",
        "    return 'Invalid Input!, Try again', False"
      ],
      "execution_count": null,
      "outputs": []
    },
    {
      "cell_type": "code",
      "metadata": {
        "id": "5ayhpFtEae5C",
        "colab": {
          "base_uri": "https://localhost:8080/"
        },
        "outputId": "1d36fe2d-7be8-40eb-abdc-5adb8fe0512a"
      },
      "source": [
        "compare('scissors','quit')"
      ],
      "execution_count": null,
      "outputs": [
        {
          "output_type": "execute_result",
          "data": {
            "text/plain": [
              "('Quit!', True)"
            ]
          },
          "metadata": {
            "tags": []
          },
          "execution_count": 12
        }
      ]
    },
    {
      "cell_type": "code",
      "metadata": {
        "id": "5MvolKsM6Slc",
        "colab": {
          "base_uri": "https://localhost:8080/"
        },
        "outputId": "9df3d233-d9d6-4af8-e94c-d9900d976251"
      },
      "source": [
        "#SPS Game\n",
        "#Prompt player 1 for name\n",
        "player1 = input(\"Please enter your name\")\n",
        "#Prompt player 2 for name\n",
        "player2 = input(\"Please enter your name\")\n",
        "\n",
        "quit = False #I\n",
        "while not quit:#C\n",
        "  #Prompt player 1 for input\n",
        "  p1_input = input(\"{},enter your input\".format(player1))\n",
        "  #Prompt player 2 for input \n",
        "  p2_input = input(\"{},enter your input\".format(player2))\n",
        "  #Compare the inputs\n",
        "  results, quit = compare(p1_input, p2_input)#U\n",
        "  #Show the results\n",
        "  print(results)"
      ],
      "execution_count": null,
      "outputs": [
        {
          "output_type": "stream",
          "text": [
            "Please enter your nameA\n",
            "Please enter your nameB\n",
            "A,enter your inputquit\n",
            "B,enter your inputpaper\n",
            "Quit!\n"
          ],
          "name": "stdout"
        }
      ]
    },
    {
      "cell_type": "markdown",
      "metadata": {
        "id": "6ERwdAjL_ees"
      },
      "source": [
        "# Reading a file"
      ]
    },
    {
      "cell_type": "code",
      "metadata": {
        "id": "Mckc8-yH-RGP",
        "colab": {
          "base_uri": "https://localhost:8080/"
        },
        "outputId": "1ea82f41-c0ba-4500-85ef-35a160259093"
      },
      "source": [
        "#Prompt for the file path;\n",
        "fn = input(\"Enter the file path : \")\n",
        "#open the file for reading\n",
        "f = open(fn,'r')\n",
        "#keep tag of number of values\n",
        "no_of_value = 0\n",
        "#keep tag of the sum of values\n",
        "sum = 0\n",
        "\n",
        "#Get every single line from the file and add to no_of_value\n",
        "for l in f:\n",
        "  no_of_value +=1\n",
        "  sum += int(l)\n",
        "\n",
        "#display the tags\n",
        "print(\"{} contains {} values\".format(fn,no_of_value))\n",
        "print(\"Sum of values is {}\".format(sum))\n",
        "print(\"Average of values is {:.2f}\".format(sum/no_of_value))\n",
        "#close the file\n",
        "f.close()"
      ],
      "execution_count": null,
      "outputs": [
        {
          "output_type": "stream",
          "text": [
            "Enter the file path : /content/drive/My Drive/Datasets/number.txt\n",
            "/content/drive/My Drive/Datasets/number.txt contains 9 values\n",
            "Sum of values is 1093\n",
            "Average of values is 121.44\n"
          ],
          "name": "stdout"
        }
      ]
    },
    {
      "cell_type": "markdown",
      "metadata": {
        "id": "A6aQyO1iDj-a"
      },
      "source": [
        ""
      ]
    },
    {
      "cell_type": "markdown",
      "metadata": {
        "id": "vgzbY9nDDYdM"
      },
      "source": [
        "## Data.gov Average Distance Per Trip csv"
      ]
    },
    {
      "cell_type": "code",
      "metadata": {
        "id": "1NH4G7J0DXvQ",
        "colab": {
          "base_uri": "https://localhost:8080/"
        },
        "outputId": "007abb6b-1ecf-4d73-df01-67074e4ad37b"
      },
      "source": [
        "fn = '/content/drive/My Drive/Datasets/public-transport-journeys.csv'\n",
        "#open the file for reading\n",
        "f = open(fn,'r')\n",
        "#keep tag of rows,year,journeys,avg\n",
        "rows= 0\n",
        "years = []\n",
        "journeys = []\n",
        "avg = []\n",
        "\n",
        "#Get every single line from the file and add to no_of_value\n",
        "for l in f:\n",
        "  rows += 1\n",
        "  if rows != 1:\n",
        "    #Extract values in each line\n",
        "    values = l.split(',')\n",
        "    years.append(values[0])\n",
        "    journeys.append(int(values[1]))\n",
        "    avg.append(float(values[2].rstrip(\"\\n\")))\n",
        "print(journeys)\n",
        "\n",
        "#Show result\n",
        "print(\"{} contain {} rows\".format(fn,rows))\n",
        "m = max(journeys)\n",
        "i = journeys.index(m)\n",
        "print(\"Year {} has max journey of {}\".format(years[i],m))\n"
      ],
      "execution_count": null,
      "outputs": [
        {
          "output_type": "stream",
          "text": [
            "[3099000, 3138000, 3267000, 3450000, 3635000, 3656000, 3841000, 3988000, 4131000, 4240000, 4428000]\n",
            "/content/drive/My Drive/Datasets/public-transport-journeys.csv contain 12 rows\n",
            "Year 2014 has max journey of 4428000\n"
          ],
          "name": "stdout"
        }
      ]
    },
    {
      "cell_type": "code",
      "metadata": {
        "id": "K5J_AwokEg-t"
      },
      "source": [
        "()"
      ],
      "execution_count": null,
      "outputs": []
    }
  ]
}