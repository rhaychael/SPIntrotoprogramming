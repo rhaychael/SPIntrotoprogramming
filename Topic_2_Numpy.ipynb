{
  "nbformat": 4,
  "nbformat_minor": 0,
  "metadata": {
    "colab": {
      "name": "Topic 2 : Numpy.ipynb",
      "provenance": [],
      "collapsed_sections": []
    },
    "kernelspec": {
      "name": "python3",
      "display_name": "Python 3"
    }
  },
  "cells": [
    {
      "cell_type": "markdown",
      "metadata": {
        "id": "Ctpk0YlXKiBy"
      },
      "source": [
        "shared at : `shorturl.at/mntO9`"
      ]
    },
    {
      "cell_type": "code",
      "metadata": {
        "id": "kBjufvEUKU1f",
        "colab": {
          "base_uri": "https://localhost:8080/"
        },
        "outputId": "fc70baf2-0100-4b81-d44e-adc33c6194a1"
      },
      "source": [
        "import numpy as np #creating an alias for numpy\n",
        "\n",
        "print(np.__version__)"
      ],
      "execution_count": null,
      "outputs": [
        {
          "output_type": "stream",
          "text": [
            "1.18.5\n"
          ],
          "name": "stdout"
        }
      ]
    },
    {
      "cell_type": "markdown",
      "metadata": {
        "id": "y6Eh640JQ6my"
      },
      "source": [
        "## Task 1"
      ]
    },
    {
      "cell_type": "code",
      "metadata": {
        "id": "X2Hdjv6NQrWM",
        "colab": {
          "base_uri": "https://localhost:8080/"
        },
        "outputId": "93596755-dea3-4cb6-e6e6-a03c0f1f8edd"
      },
      "source": [
        "num1 = np.arange(8)\n",
        "num2 = np.arange(1.2, 2.2, 0.2)\n",
        "names= np.array(['Mary', 'John', 'Peter', 'Christine'], dtype='object')\n",
        "dates= np.arange(start ='2000-02-01', stop ='2000-03-01', dtype='datetime64[D]' )\n",
        "random_no = np.random.randint(10)\n",
        "random_no = np.random.randint(low=100,high=200,size =20)\n",
        "evenly_spaced = np.linspace(start= 5,stop = 10,num = 50)\n",
        "names\n",
        "dates\n",
        "random_no\n",
        "evenly_spaced"
      ],
      "execution_count": null,
      "outputs": [
        {
          "output_type": "execute_result",
          "data": {
            "text/plain": [
              "array([ 5.        ,  5.10204082,  5.20408163,  5.30612245,  5.40816327,\n",
              "        5.51020408,  5.6122449 ,  5.71428571,  5.81632653,  5.91836735,\n",
              "        6.02040816,  6.12244898,  6.2244898 ,  6.32653061,  6.42857143,\n",
              "        6.53061224,  6.63265306,  6.73469388,  6.83673469,  6.93877551,\n",
              "        7.04081633,  7.14285714,  7.24489796,  7.34693878,  7.44897959,\n",
              "        7.55102041,  7.65306122,  7.75510204,  7.85714286,  7.95918367,\n",
              "        8.06122449,  8.16326531,  8.26530612,  8.36734694,  8.46938776,\n",
              "        8.57142857,  8.67346939,  8.7755102 ,  8.87755102,  8.97959184,\n",
              "        9.08163265,  9.18367347,  9.28571429,  9.3877551 ,  9.48979592,\n",
              "        9.59183673,  9.69387755,  9.79591837,  9.89795918, 10.        ])"
            ]
          },
          "metadata": {
            "tags": []
          },
          "execution_count": 31
        }
      ]
    },
    {
      "cell_type": "code",
      "metadata": {
        "id": "gNNeFOJSVVW4",
        "colab": {
          "base_uri": "https://localhost:8080/"
        },
        "outputId": "edfe49c9-92bc-4d5b-a8bf-0604c14adedd"
      },
      "source": [
        "num3 = np.arange(1,9)\n",
        "num3 = num3.reshape(2,4)\n",
        "num3\n",
        "num4 = np.arange(1.5,10.5)\n",
        "num4 = num4.reshape(3,3)\n",
        "num4\n",
        "a = np.arange(1.6,1.9,0.1)\n",
        "b = np.arange(2.5,10,2.5)\n",
        "c = np.arange(20,80,20)\n",
        "num5 = np.array((a,b,c))\n",
        "num5\n",
        "\n",
        "num6 = np.zeros((3,4))\n",
        "num6\n",
        "\n",
        "num7 = np.ones((5,5))\n",
        "num7\n",
        "\n",
        "num8 = np.full(shape=(4,3),fill_value=10.5)\n",
        "num8\n",
        "\n",
        "num9 = np.eye(4)\n",
        "num9\n",
        "\n",
        "num10 = np.random.randint(low = 1, high = 6, size=(4,8))\n",
        "num10"
      ],
      "execution_count": null,
      "outputs": [
        {
          "output_type": "execute_result",
          "data": {
            "text/plain": [
              "array([[5, 4, 5, 2, 1, 2, 2, 2],\n",
              "       [4, 5, 3, 4, 2, 2, 1, 1],\n",
              "       [1, 2, 4, 1, 2, 1, 4, 1],\n",
              "       [2, 2, 5, 4, 5, 5, 5, 5]])"
            ]
          },
          "metadata": {
            "tags": []
          },
          "execution_count": 48
        }
      ]
    },
    {
      "cell_type": "code",
      "metadata": {
        "id": "wCUHCpSNaiHU"
      },
      "source": [
        "a = np.array([1.55,1.73,1.9,1.72,1.66,1.8])\n",
        "\n",
        "b = np.array([('red', 'green', 'yellow', 'blue'),(True,False, False, True), \n",
        "              ('2017-10-01', '2017-11-11', '2017-12-23', '2018-03-31')])\n",
        "c = np.array([[(10,9,8,7),(6,5,4,3)], [(1,2,3,4),(5,6,7,8)]])\n",
        "\n",
        "# Data loaded from the textfile data1.txt\n",
        "d = np.loadtxt(\"/content/drive/MyDrive/PDS/data1.txt\", delimiter = \",\",dtype='object')\n"
      ],
      "execution_count": null,
      "outputs": []
    },
    {
      "cell_type": "code",
      "metadata": {
        "id": "kvDcX2qmUD-w",
        "colab": {
          "base_uri": "https://localhost:8080/"
        },
        "outputId": "0619a11b-c541-4fc0-b22e-22993cbfa844"
      },
      "source": [
        "#Task 1\n",
        "#Shape\n",
        "print(\"shape\")\n",
        "print(a.shape)\n",
        "print(b.shape)\n",
        "print(c.shape)\n",
        "print(d.shape)\n",
        "\n",
        "#No of rows\n",
        "print(\"len\")\n",
        "print(len(a))\n",
        "print(len(b))\n",
        "print(len(c))\n",
        "print(len(d))\n",
        "\n",
        "#ndim\n",
        "print(\"ndim\")\n",
        "print(a.ndim)\n",
        "print(b.ndim)\n",
        "print(c.ndim)\n",
        "print(d.ndim)\n",
        "\n",
        "#size\n",
        "print(\"size\")\n",
        "print(a.size)\n",
        "print(b.size)\n",
        "print(c.size)\n",
        "print(d.size)"
      ],
      "execution_count": null,
      "outputs": [
        {
          "output_type": "stream",
          "text": [
            "shape\n",
            "(6,)\n",
            "(3, 4)\n",
            "(2, 2, 4)\n",
            "(4, 4)\n",
            "len\n",
            "6\n",
            "3\n",
            "2\n",
            "4\n",
            "ndim\n",
            "1\n",
            "2\n",
            "3\n",
            "2\n",
            "size\n",
            "6\n",
            "12\n",
            "16\n",
            "16\n"
          ],
          "name": "stdout"
        }
      ]
    },
    {
      "cell_type": "code",
      "metadata": {
        "colab": {
          "base_uri": "https://localhost:8080/"
        },
        "id": "nMKkIWcrFuJn",
        "outputId": "a2adb18c-26ec-4b6b-91a3-7f36bb2309a0"
      },
      "source": [
        "b"
      ],
      "execution_count": null,
      "outputs": [
        {
          "output_type": "execute_result",
          "data": {
            "text/plain": [
              "array([['red', 'green', 'yellow', 'blue'],\n",
              "       ['True', 'False', 'False', 'True'],\n",
              "       ['2017-10-01', '2017-11-11', '2017-12-23', '2018-03-31']],\n",
              "      dtype='<U10')"
            ]
          },
          "metadata": {
            "tags": []
          },
          "execution_count": 18
        }
      ]
    },
    {
      "cell_type": "code",
      "metadata": {
        "colab": {
          "base_uri": "https://localhost:8080/"
        },
        "id": "VxYqTUgPFu-z",
        "outputId": "5a141503-f006-4f87-96ec-b5a7aefdcac9"
      },
      "source": [
        "print(\"Array a\")\n",
        "print(type(a))\n",
        "print(a.dtype) #only if type is ndarray\n",
        "\n",
        "print(\"Array b\")\n",
        "print(type(b))\n",
        "print(b.dtype) #only if type is ndarray\n",
        "\n",
        "print(\"Array c\")\n",
        "print(type(c))\n",
        "print(c.dtype) #only if type is ndarray\n",
        "\n",
        "print(\"Array d\")\n",
        "print(type(d))\n",
        "print(d.dtype) #only if type is ndarray"
      ],
      "execution_count": null,
      "outputs": [
        {
          "output_type": "stream",
          "text": [
            "Array a\n",
            "<class 'numpy.ndarray'>\n",
            "float64\n",
            "Array b\n",
            "<class 'numpy.ndarray'>\n",
            "<U10\n",
            "Array c\n",
            "<class 'numpy.ndarray'>\n",
            "int64\n",
            "Array d\n",
            "<class 'numpy.ndarray'>\n",
            "object\n"
          ],
          "name": "stdout"
        }
      ]
    },
    {
      "cell_type": "code",
      "metadata": {
        "colab": {
          "base_uri": "https://localhost:8080/"
        },
        "id": "vZupti7dHHKa",
        "outputId": "8745b3b9-f093-40d6-e082-d6bf52ef5bfa"
      },
      "source": [
        "a = np.array([ ['Mary', 'John','Bob'], \n",
        "               ['Zoe', 'Chris','Ann'],\n",
        "               ['Leon', 'Kathy','Sam']])\n",
        "a.flatten()"
      ],
      "execution_count": null,
      "outputs": [
        {
          "output_type": "execute_result",
          "data": {
            "text/plain": [
              "array(['Mary', 'John', 'Bob', 'Zoe', 'Chris', 'Ann', 'Leon', 'Kathy',\n",
              "       'Sam'], dtype='<U5')"
            ]
          },
          "metadata": {
            "tags": []
          },
          "execution_count": 19
        }
      ]
    },
    {
      "cell_type": "code",
      "metadata": {
        "colab": {
          "base_uri": "https://localhost:8080/"
        },
        "id": "aOrgM5xpHb_O",
        "outputId": "9ac0d735-a459-4c56-9363-4793bd286199"
      },
      "source": [
        "# (a)\tWrite Python code to convert the following 1-D array a into a 3x5 multi-dimensional array\n",
        "\n",
        "a = np.arange(15,30)\n",
        "a = a.reshape(3,5)\n",
        "print(a)\n",
        "# (b)\tConvert the following 2x6 array b into a 3x4 array\n",
        "\n",
        "b = np.array([ [1,2,3,4,5,6], [7,8,9,10,11,12]])\n",
        "b = b.reshape(3,4)\n",
        "print(b)\n"
      ],
      "execution_count": null,
      "outputs": [
        {
          "output_type": "stream",
          "text": [
            "[[15 16 17 18 19]\n",
            " [20 21 22 23 24]\n",
            " [25 26 27 28 29]]\n",
            "[[ 1  2  3  4]\n",
            " [ 5  6  7  8]\n",
            " [ 9 10 11 12]]\n"
          ],
          "name": "stdout"
        }
      ]
    },
    {
      "cell_type": "code",
      "metadata": {
        "colab": {
          "base_uri": "https://localhost:8080/"
        },
        "id": "OCGJUMDkICG0",
        "outputId": "7e68aea2-346f-4214-f2ca-6037c4ff5951"
      },
      "source": [
        "# transpose\n",
        "a = np.array([ [1,2,3,4,5,6], [7,8,9,10,11,12]])\n",
        "a.transpose()\n",
        "# a.T"
      ],
      "execution_count": null,
      "outputs": [
        {
          "output_type": "execute_result",
          "data": {
            "text/plain": [
              "array([[ 1,  7],\n",
              "       [ 2,  8],\n",
              "       [ 3,  9],\n",
              "       [ 4, 10],\n",
              "       [ 5, 11],\n",
              "       [ 6, 12]])"
            ]
          },
          "metadata": {
            "tags": []
          },
          "execution_count": 26
        }
      ]
    },
    {
      "cell_type": "code",
      "metadata": {
        "colab": {
          "base_uri": "https://localhost:8080/"
        },
        "id": "lCp2QIRtImrS",
        "outputId": "ae76a7a5-6f58-45ef-87b8-7f49672ff093"
      },
      "source": [
        "a = np.array([ 1,2,3,4,5,6])\n",
        "b = np.copy(a)\n",
        "print(b is a)\n",
        "a[1] = 10\n",
        "print(b)"
      ],
      "execution_count": null,
      "outputs": [
        {
          "output_type": "stream",
          "text": [
            "False\n",
            "[1 2 3 4 5 6]\n"
          ],
          "name": "stdout"
        }
      ]
    },
    {
      "cell_type": "code",
      "metadata": {
        "colab": {
          "base_uri": "https://localhost:8080/"
        },
        "id": "a837tdA3KH1P",
        "outputId": "dea89714-7117-4cde-93e2-226142c3f18d"
      },
      "source": [
        "b = np.array([ [1,2,3,4,5,6], [7,8,9,10,11,12]])\n",
        "b.reshape(3,4)\n",
        "print(b)\n"
      ],
      "execution_count": null,
      "outputs": [
        {
          "output_type": "stream",
          "text": [
            "[[ 1  2  3  4  5  6]\n",
            " [ 7  8  9 10 11 12]]\n"
          ],
          "name": "stdout"
        }
      ]
    },
    {
      "cell_type": "code",
      "metadata": {
        "colab": {
          "base_uri": "https://localhost:8080/"
        },
        "id": "HF240J7ROeIF",
        "outputId": "91ad884e-d2f0-4817-bbd1-34fd15816c8c"
      },
      "source": [
        "a = np.arange(1,100,1)\n",
        "b = np.array([[1,2,3,4], [100,200,300,400],  [5,6,7,8],  [9,10,11,12] ])\n",
        "\n",
        "\n",
        "print(a[3])\n",
        "print(type(a[3]))\n",
        "print(b[3])\n",
        "print(type(b[3]))\n",
        "\n",
        "print(b[1:3])\n",
        "\n",
        "print(b[:,-1])\n",
        "\n",
        "print(b[1,[0,-1]])\n",
        "\n",
        "print(b[2:,1:])\n",
        "\n",
        "print(a[10:20:2])\n",
        "\n",
        "print(a[::-1])"
      ],
      "execution_count": null,
      "outputs": [
        {
          "output_type": "stream",
          "text": [
            "4\n",
            "<class 'numpy.int64'>\n",
            "[ 9 10 11 12]\n",
            "<class 'numpy.ndarray'>\n",
            "[[100 200 300 400]\n",
            " [  5   6   7   8]]\n",
            "[  4 400   8  12]\n",
            "[100 400]\n",
            "[[ 6  7  8]\n",
            " [10 11 12]]\n",
            "[11 13 15 17 19]\n",
            "[99 98 97 96 95 94 93 92 91 90 89 88 87 86 85 84 83 82 81 80 79 78 77 76\n",
            " 75 74 73 72 71 70 69 68 67 66 65 64 63 62 61 60 59 58 57 56 55 54 53 52\n",
            " 51 50 49 48 47 46 45 44 43 42 41 40 39 38 37 36 35 34 33 32 31 30 29 28\n",
            " 27 26 25 24 23 22 21 20 19 18 17 16 15 14 13 12 11 10  9  8  7  6  5  4\n",
            "  3  2  1]\n"
          ],
          "name": "stdout"
        }
      ]
    },
    {
      "cell_type": "code",
      "metadata": {
        "colab": {
          "base_uri": "https://localhost:8080/"
        },
        "id": "sYNLbPhsQKzX",
        "outputId": "7a61e6fb-11ad-46ee-d00c-fe6ce1ac8ad0"
      },
      "source": [
        "b = np.arange(9.).reshape(3, 3)\n",
        "print(b)\n",
        "b5 = np.where( b > 5 )  #boolean mask\n",
        "print(b5)\n",
        "\n",
        "# print(b[b5]) #applying mask to the numpy array\n",
        "\n",
        "print(\"*** Values of where the elements are, and their rows/columns ***\")\n",
        "for i in range(len(b5[0])):\n",
        "  row = b5[0][i]\n",
        "  col = b5[1][i]\n",
        "  print(\"Value: {} in row {}, column {}\".format(b[row][col],row,col))\n"
      ],
      "execution_count": null,
      "outputs": [
        {
          "output_type": "stream",
          "text": [
            "[[0. 1. 2.]\n",
            " [3. 4. 5.]\n",
            " [6. 7. 8.]]\n",
            "(array([2, 2, 2]), array([0, 1, 2]))\n",
            "*** Values of where the elements are, and their rows/columns ***\n",
            "Value: 6.0 in row 2, column 0\n",
            "Value: 7.0 in row 2, column 1\n",
            "Value: 8.0 in row 2, column 2\n"
          ],
          "name": "stdout"
        }
      ]
    },
    {
      "cell_type": "code",
      "metadata": {
        "colab": {
          "base_uri": "https://localhost:8080/"
        },
        "id": "_s-62PrET6dl",
        "outputId": "18ce42bf-ff30-46ef-c060-ddd332b7c2a9"
      },
      "source": [
        "a = np.arange(100,200,1).reshape(20,5) \n",
        "b = np.arange(1,2000,20).reshape(10,10) \n",
        "c = np.array([ [1,2,3], [4,5,6]])\n",
        "print(a)\n",
        "print(b)\n",
        "print(c)"
      ],
      "execution_count": null,
      "outputs": [
        {
          "output_type": "stream",
          "text": [
            "[[100 101 102 103 104]\n",
            " [105 106 107 108 109]\n",
            " [110 111 112 113 114]\n",
            " [115 116 117 118 119]\n",
            " [120 121 122 123 124]\n",
            " [125 126 127 128 129]\n",
            " [130 131 132 133 134]\n",
            " [135 136 137 138 139]\n",
            " [140 141 142 143 144]\n",
            " [145 146 147 148 149]\n",
            " [150 151 152 153 154]\n",
            " [155 156 157 158 159]\n",
            " [160 161 162 163 164]\n",
            " [165 166 167 168 169]\n",
            " [170 171 172 173 174]\n",
            " [175 176 177 178 179]\n",
            " [180 181 182 183 184]\n",
            " [185 186 187 188 189]\n",
            " [190 191 192 193 194]\n",
            " [195 196 197 198 199]]\n",
            "[[   1   21   41   61   81  101  121  141  161  181]\n",
            " [ 201  221  241  261  281  301  321  341  361  381]\n",
            " [ 401  421  441  461  481  501  521  541  561  581]\n",
            " [ 601  621  641  661  681  701  721  741  761  781]\n",
            " [ 801  821  841  861  881  901  921  941  961  981]\n",
            " [1001 1021 1041 1061 1081 1101 1121 1141 1161 1181]\n",
            " [1201 1221 1241 1261 1281 1301 1321 1341 1361 1381]\n",
            " [1401 1421 1441 1461 1481 1501 1521 1541 1561 1581]\n",
            " [1601 1621 1641 1661 1681 1701 1721 1741 1761 1781]\n",
            " [1801 1821 1841 1861 1881 1901 1921 1941 1961 1981]]\n",
            "[[1 2 3]\n",
            " [4 5 6]]\n"
          ],
          "name": "stdout"
        }
      ]
    },
    {
      "cell_type": "code",
      "metadata": {
        "colab": {
          "base_uri": "https://localhost:8080/",
          "height": 165
        },
        "id": "XnfIAEVDTXi0",
        "outputId": "265923e1-1a0f-414e-cd88-2a896f38f682"
      },
      "source": [
        "print(a+b)"
      ],
      "execution_count": null,
      "outputs": [
        {
          "output_type": "error",
          "ename": "ValueError",
          "evalue": "ignored",
          "traceback": [
            "\u001b[0;31m---------------------------------------------------------------------------\u001b[0m",
            "\u001b[0;31mValueError\u001b[0m                                Traceback (most recent call last)",
            "\u001b[0;32m<ipython-input-59-85111a3ab660>\u001b[0m in \u001b[0;36m<module>\u001b[0;34m()\u001b[0m\n\u001b[0;32m----> 1\u001b[0;31m \u001b[0mprint\u001b[0m\u001b[0;34m(\u001b[0m\u001b[0ma\u001b[0m\u001b[0;34m+\u001b[0m\u001b[0mb\u001b[0m\u001b[0;34m)\u001b[0m\u001b[0;34m\u001b[0m\u001b[0;34m\u001b[0m\u001b[0m\n\u001b[0m",
            "\u001b[0;31mValueError\u001b[0m: operands could not be broadcast together with shapes (20,5) (10,10) "
          ]
        }
      ]
    },
    {
      "cell_type": "code",
      "metadata": {
        "colab": {
          "base_uri": "https://localhost:8080/"
        },
        "id": "sPJmYKxnQL1x",
        "outputId": "019fdc9d-326d-48d0-8457-a80e7455a82d"
      },
      "source": [
        "a2 = np.random.randint(0,100,(20,5))\n",
        "print(a2)\n",
        "print(a+a2)"
      ],
      "execution_count": null,
      "outputs": [
        {
          "output_type": "stream",
          "text": [
            "[[46 39 59 20 28]\n",
            " [72 31 65 30  3]\n",
            " [45 59 71 10 19]\n",
            " [51 96 57 35 92]\n",
            " [58 32 37  6  7]\n",
            " [33 37 22 16  2]\n",
            " [47  9 73 66  6]\n",
            " [ 8 41 99 75 53]\n",
            " [70 51 96 93 82]\n",
            " [58 94 36 45 33]\n",
            " [19 23  6 74 77]\n",
            " [60 40 29 82 22]\n",
            " [40 51 89 55 69]\n",
            " [91 55  5 59 70]\n",
            " [40 35 79 77 32]\n",
            " [84 11 65 16 91]\n",
            " [57 40 13 62 13]\n",
            " [64 42  1 67 19]\n",
            " [ 2 72 57 70 60]\n",
            " [14 54 33 70 42]]\n",
            "[[146 140 161 123 132]\n",
            " [177 137 172 138 112]\n",
            " [155 170 183 123 133]\n",
            " [166 212 174 153 211]\n",
            " [178 153 159 129 131]\n",
            " [158 163 149 144 131]\n",
            " [177 140 205 199 140]\n",
            " [143 177 236 213 192]\n",
            " [210 192 238 236 226]\n",
            " [203 240 183 193 182]\n",
            " [169 174 158 227 231]\n",
            " [215 196 186 240 181]\n",
            " [200 212 251 218 233]\n",
            " [256 221 172 227 239]\n",
            " [210 206 251 250 206]\n",
            " [259 187 242 194 270]\n",
            " [237 221 195 245 197]\n",
            " [249 228 188 255 208]\n",
            " [192 263 249 263 254]\n",
            " [209 250 230 268 241]]\n"
          ],
          "name": "stdout"
        }
      ]
    },
    {
      "cell_type": "code",
      "metadata": {
        "colab": {
          "base_uri": "https://localhost:8080/"
        },
        "id": "zrYNOXu6WNpI",
        "outputId": "e0cf9118-9266-4b48-bf21-994a9e839c84"
      },
      "source": [
        "b = np.arange(1,2000,20).reshape(10,10) \n",
        "c = np.array([ [1,2,3], [4,5,6]])\n",
        "print(c.shape)\n",
        "b2 = b[0:2,0:3]\n",
        "print(b2.shape)\n",
        "b2 + c"
      ],
      "execution_count": null,
      "outputs": [
        {
          "output_type": "stream",
          "text": [
            "(2, 3)\n",
            "(2, 3)\n"
          ],
          "name": "stdout"
        },
        {
          "output_type": "execute_result",
          "data": {
            "text/plain": [
              "array([[  2,  23,  44],\n",
              "       [205, 226, 247]])"
            ]
          },
          "metadata": {
            "tags": []
          },
          "execution_count": 68
        }
      ]
    },
    {
      "cell_type": "code",
      "metadata": {
        "colab": {
          "base_uri": "https://localhost:8080/"
        },
        "id": "NSXxZvAJVXyC",
        "outputId": "fa7c1def-8b1d-4403-df1b-04976ee860f5"
      },
      "source": [
        "a = np.arange(100,200,1).reshape(20,5) \n",
        "c = np.array([ [1,2,3], [4,5,6]])\n",
        "\n",
        "a2 = a[a%2==0]\n",
        "a2 = a2[0:6].reshape(2,3)\n",
        "\n",
        "a2*c\n",
        "\n",
        "a2/(c*10)"
      ],
      "execution_count": null,
      "outputs": [
        {
          "output_type": "execute_result",
          "data": {
            "text/plain": [
              "array([[10.        ,  5.1       ,  3.46666667],\n",
              "       [ 2.65      ,  2.16      ,  1.83333333]])"
            ]
          },
          "metadata": {
            "tags": []
          },
          "execution_count": 74
        }
      ]
    },
    {
      "cell_type": "code",
      "metadata": {
        "colab": {
          "base_uri": "https://localhost:8080/"
        },
        "id": "AXbZRM8WYG9p",
        "outputId": "58763a3b-9813-43cb-e109-1cc4126ce18c"
      },
      "source": [
        "a = np.arange(10, 50, 0.5)\n",
        "b = np.arange(10, 20, 0.1)\n",
        "\n",
        "print(a)\n",
        "print(b)\n",
        "\n",
        "print(\"SD of a : {:.2f}\".format(np.std(a)))\n",
        "print(\"SD of b : {:.2f}\".format(np.std(b)))\n",
        "\n",
        "print(\"Var of a : {:.2f}\".format(np.var(a)))\n",
        "print(\"Var of b : {:.2f}\".format(np.var(b)))"
      ],
      "execution_count": null,
      "outputs": [
        {
          "output_type": "stream",
          "text": [
            "[10.  10.5 11.  11.5 12.  12.5 13.  13.5 14.  14.5 15.  15.5 16.  16.5\n",
            " 17.  17.5 18.  18.5 19.  19.5 20.  20.5 21.  21.5 22.  22.5 23.  23.5\n",
            " 24.  24.5 25.  25.5 26.  26.5 27.  27.5 28.  28.5 29.  29.5 30.  30.5\n",
            " 31.  31.5 32.  32.5 33.  33.5 34.  34.5 35.  35.5 36.  36.5 37.  37.5\n",
            " 38.  38.5 39.  39.5 40.  40.5 41.  41.5 42.  42.5 43.  43.5 44.  44.5\n",
            " 45.  45.5 46.  46.5 47.  47.5 48.  48.5 49.  49.5]\n",
            "[10.  10.1 10.2 10.3 10.4 10.5 10.6 10.7 10.8 10.9 11.  11.1 11.2 11.3\n",
            " 11.4 11.5 11.6 11.7 11.8 11.9 12.  12.1 12.2 12.3 12.4 12.5 12.6 12.7\n",
            " 12.8 12.9 13.  13.1 13.2 13.3 13.4 13.5 13.6 13.7 13.8 13.9 14.  14.1\n",
            " 14.2 14.3 14.4 14.5 14.6 14.7 14.8 14.9 15.  15.1 15.2 15.3 15.4 15.5\n",
            " 15.6 15.7 15.8 15.9 16.  16.1 16.2 16.3 16.4 16.5 16.6 16.7 16.8 16.9\n",
            " 17.  17.1 17.2 17.3 17.4 17.5 17.6 17.7 17.8 17.9 18.  18.1 18.2 18.3\n",
            " 18.4 18.5 18.6 18.7 18.8 18.9 19.  19.1 19.2 19.3 19.4 19.5 19.6 19.7\n",
            " 19.8 19.9]\n",
            "SD of a : 11.55\n",
            "SD of b : 2.89\n",
            "Var of a : 133.31\n",
            "Var of b : 8.33\n"
          ],
          "name": "stdout"
        }
      ]
    },
    {
      "cell_type": "code",
      "metadata": {
        "colab": {
          "base_uri": "https://localhost:8080/"
        },
        "id": "lFaueNhUc_dg",
        "outputId": "ee30aacc-8a62-4c87-d4f1-7221e439bcdf"
      },
      "source": [
        "a = np.random.randint(1,1000,(3,4))\n",
        "print(a)\n",
        "print(a.max())\n",
        "print(a.min())\n",
        "\n",
        "indices = np.where(a==a.max())\n",
        "print(str(indices[0] ) + \",\" + str(indices[1]))"
      ],
      "execution_count": null,
      "outputs": [
        {
          "output_type": "stream",
          "text": [
            "[[921 329  65 556]\n",
            " [134 818 714 770]\n",
            " [112 837 209 955]]\n",
            "955\n",
            "65\n",
            "[2],[3]\n"
          ],
          "name": "stdout"
        }
      ]
    },
    {
      "cell_type": "code",
      "metadata": {
        "colab": {
          "base_uri": "https://localhost:8080/"
        },
        "id": "y37XaBxPcvkl",
        "outputId": "53fe9d07-5c2e-4878-bc5c-3f1ada83fd55"
      },
      "source": [
        "a = np.arange(1,21).reshape(4,5)\n",
        "print(a)\n",
        "\n",
        "\n",
        "print(np.cumsum(a,axis = 0))\n",
        "print(np.cumsum(a,axis = 1))\n",
        "\n",
        "print(np.cumproduct(a,axis = 0))\n",
        "print(np.cumproduct(a,axis = 1))"
      ],
      "execution_count": null,
      "outputs": [
        {
          "output_type": "stream",
          "text": [
            "[[ 1  2  3  4  5]\n",
            " [ 6  7  8  9 10]\n",
            " [11 12 13 14 15]\n",
            " [16 17 18 19 20]]\n",
            "[[ 1  2  3  4  5]\n",
            " [ 7  9 11 13 15]\n",
            " [18 21 24 27 30]\n",
            " [34 38 42 46 50]]\n",
            "[[ 1  3  6 10 15]\n",
            " [ 6 13 21 30 40]\n",
            " [11 23 36 50 65]\n",
            " [16 33 51 70 90]]\n",
            "[[    1     2     3     4     5]\n",
            " [    6    14    24    36    50]\n",
            " [   66   168   312   504   750]\n",
            " [ 1056  2856  5616  9576 15000]]\n",
            "[[      1       2       6      24     120]\n",
            " [      6      42     336    3024   30240]\n",
            " [     11     132    1716   24024  360360]\n",
            " [     16     272    4896   93024 1860480]]\n"
          ],
          "name": "stdout"
        }
      ]
    },
    {
      "cell_type": "code",
      "metadata": {
        "colab": {
          "base_uri": "https://localhost:8080/"
        },
        "id": "UoW4xZE8fWFS",
        "outputId": "89199a8a-9d3a-4d1f-e4fd-c79feb318091"
      },
      "source": [
        "import numpy as np\n",
        "\n",
        "### Read the csv file with the loadtxt() function\n",
        "fname = \"/content/drive/MyDrive/PDS/singapore-residents-by-ethnic-group-and-sex-end-june-annual.csv\"\n",
        "data = np.loadtxt(fname, skiprows=1,dtype=[('year','i8'),('level_1','U50'), ('value','i8')],delimiter=\",\")\n",
        "\n",
        "### Print out total rows of data in the file\n",
        "print(\"There are altogether \" + str(len(data))   + \" rows of data in the file \" + fname )\n",
        "print()\n",
        "\n",
        "### Print out the number of years of data captured\n",
        "data_years = data['year']  # Just extract the year column\n",
        "years = np.unique(data_years)   # Get the unique values in this column\n",
        "print(\"There are \" + str(len(years)) + \n",
        "      \"years of data captured from \" + \n",
        "      str(years[0]) + \" to \" + str(years[len(years)-1]))\n",
        "print()\n",
        "\n",
        "### Extract only the rows with “Total Residents\" in the “level_1” column\n",
        "keyword = 'Total Residents'\n",
        "column_to_search = data[:]['level_1']\n",
        "out = [i for i, v in enumerate(column_to_search) if keyword in v]\n",
        "data_totalresidents = data[out]\n",
        "\n",
        "### Print out the year which has the highest total number of residents\n",
        "max = data_totalresidents['value'].max()\n",
        "argmax = data_totalresidents['value'].argmax()\n",
        "print(\"Year with the highest total number of residents: \" + str(data_totalresidents[argmax]['year']))\n",
        "print(\"Population Count: \" + str(max))\n",
        "print()\n",
        "\n",
        "### Print out the year which has the lowest total number of residents\n",
        "min = data_totalresidents['value'].min()\n",
        "argmin = data_totalresidents['value'].argmin()\n",
        "\n",
        "print(\"Year with the lowest total number of residents: \" + \n",
        "      str(data_totalresidents[argmin]['year']))\n",
        "print(\"Population Count: \" + str(min))\n",
        "\n",
        "print()\n",
        "\n"
      ],
      "execution_count": null,
      "outputs": [
        {
          "output_type": "stream",
          "text": [
            "There are altogether 855 rows of data in the file /content/drive/MyDrive/PDS/singapore-residents-by-ethnic-group-and-sex-end-june-annual.csv\n",
            "\n",
            "There are 57years of data captured from 1960 to 2016\n",
            "\n",
            "Year with the highest total number of residents: 2016\n",
            "Population Count: 3933559\n",
            "\n",
            "Year with the lowest total number of residents: 1960\n",
            "Population Count: 1646400\n",
            "\n"
          ],
          "name": "stdout"
        }
      ]
    }
  ]
}