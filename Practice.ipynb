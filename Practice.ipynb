{
  "nbformat": 4,
  "nbformat_minor": 0,
  "metadata": {
    "colab": {
      "name": "Practice.ipynb",
      "provenance": []
    },
    "kernelspec": {
      "name": "python3",
      "display_name": "Python 3"
    }
  },
  "cells": [
    {
      "cell_type": "code",
      "metadata": {
        "colab": {
          "base_uri": "https://localhost:8080/"
        },
        "id": "KHq215WPKVd7",
        "outputId": "14699c90-86ec-4ca4-c400-b9850bc560e7"
      },
      "source": [
        "weight = float(input(\"enter your weight\"))\r\n",
        "height = float(input(\"enter your height in meters\"))\r\n",
        "\r\n",
        "bmi = weight / (height*height)\r\n",
        "\r\n",
        "print(\"BMI is {}\".format(bmi))\r\n"
      ],
      "execution_count": null,
      "outputs": [
        {
          "output_type": "stream",
          "text": [
            "enter your weight50\n",
            "enter your height in meters1.5\n",
            "BMI is 22.22222222222222\n"
          ],
          "name": "stdout"
        }
      ]
    },
    {
      "cell_type": "code",
      "metadata": {
        "colab": {
          "base_uri": "https://localhost:8080/"
        },
        "id": "XouBGb50Ln4v",
        "outputId": "8e0c97e0-22bb-4ace-fa3b-9a31b377b83a"
      },
      "source": [
        "input1 = int(input(\"Enter number 1:\"))\r\n",
        "input2 = int(input(\"Enter number 2:\"))\r\n",
        "\r\n",
        "if input1 == input2:\r\n",
        "  print(\"The 2 numbers are the same\")\r\n",
        "else:\r\n",
        "  print(\"the 2 numbers are not the same\")"
      ],
      "execution_count": null,
      "outputs": [
        {
          "output_type": "stream",
          "text": [
            "Enter number 1:1\n",
            "Enter number 2:1\n",
            "The 2 numbers are the same\n"
          ],
          "name": "stdout"
        }
      ]
    },
    {
      "cell_type": "code",
      "metadata": {
        "colab": {
          "base_uri": "https://localhost:8080/"
        },
        "id": "3OqBJFxNMV42",
        "outputId": "95164d50-34f3-4403-cb71-4c08c143da74"
      },
      "source": [
        "import numpy as np\r\n",
        "\r\n",
        "str = input(\"Pls enter a msg\")\r\n",
        "n = input(\"Please enter no. of times to repeat\")\r\n",
        "\r\n",
        "for i in range (0,5):\r\n",
        "  print(\"Hello world\")"
      ],
      "execution_count": null,
      "outputs": [
        {
          "output_type": "stream",
          "text": [
            "Pls enter a msghood\n",
            "Please enter no. of times to repeat2\n",
            "Hello world\n",
            "Hello world\n",
            "Hello world\n",
            "Hello world\n",
            "Hello world\n"
          ],
          "name": "stdout"
        }
      ]
    },
    {
      "cell_type": "code",
      "metadata": {
        "colab": {
          "base_uri": "https://localhost:8080/"
        },
        "id": "-OIJuMKdNZld",
        "outputId": "e8e65724-d10c-4c4a-b03b-c4abf9825b58"
      },
      "source": [
        "import random\r\n",
        "low = input(\"Enter lower limit:\")\r\n",
        "high = input(\"Enter upper limit:\")\r\n",
        "r = random.randint(int(low), int(high))\r\n",
        "guess = 0 \r\n",
        "while not guess == r:\r\n",
        "  guess = int(input(\"Guess a number between\" + low + \"and\" + high + \":\"))\r\n",
        "  if guess > r:\r\n",
        "    print(\"Too high\")\r\n",
        "  if guess < r: \r\n",
        "    print(\"Too low\")\r\n",
        "  if guess == r:\r\n",
        "    print(\"You are right\")"
      ],
      "execution_count": null,
      "outputs": [
        {
          "output_type": "stream",
          "text": [
            "Enter lower limit:5\n",
            "Enter upper limit:10\n",
            "Guess a number between5and10:7\n",
            "Too low\n",
            "Guess a number between5and10:9\n",
            "You are right\n"
          ],
          "name": "stdout"
        }
      ]
    },
    {
      "cell_type": "code",
      "metadata": {
        "id": "waW8EBYUNFd3"
      },
      "source": [
        ""
      ],
      "execution_count": null,
      "outputs": []
    }
  ]
}