{
  "nbformat": 4,
  "nbformat_minor": 0,
  "metadata": {
    "colab": {
      "name": "Topic1: Python Basic (SP).ipynb",
      "provenance": [],
      "collapsed_sections": []
    },
    "kernelspec": {
      "name": "python3",
      "display_name": "Python 3"
    }
  },
  "cells": [
    {
      "cell_type": "markdown",
      "metadata": {
        "id": "TaxbWrSDFXmZ"
      },
      "source": [
        "Question 1:"
      ]
    },
    {
      "cell_type": "code",
      "metadata": {
        "id": "9Cc6a0ruFZSs",
        "colab": {
          "base_uri": "https://localhost:8080/",
          "height": 52
        },
        "outputId": "5f3561bb-2990-478b-ec33-efc4adc0b3db"
      },
      "source": [
        "name = input(\"Enter your name\")\n",
        "print(\"Hello\", name)"
      ],
      "execution_count": null,
      "outputs": [
        {
          "output_type": "stream",
          "text": [
            "Enter your nameRachael\n",
            "Hello Rachael\n"
          ],
          "name": "stdout"
        }
      ]
    },
    {
      "cell_type": "markdown",
      "metadata": {
        "id": "M4_FxvFwFlkN"
      },
      "source": [
        "Question 2:"
      ]
    },
    {
      "cell_type": "code",
      "metadata": {
        "id": "SJcBaWbAFnV5",
        "colab": {
          "base_uri": "https://localhost:8080/",
          "height": 69
        },
        "outputId": "6ffbabd6-7130-43e7-9204-757f03f17e4a"
      },
      "source": [
        "#Prompt the user for the length of the square \n",
        "length = input(\"Enter the length of a square\")\n",
        "#Convert the length (str) into float because string cannot do math operation\n",
        "#Assign it back to length\n",
        "length = float(length)\n",
        "#Let's check the type of float here\n",
        "print(type(length))\n",
        "#Calculate the area and store its value for later use\n",
        "area = length * length \n",
        "print(\"Area of square is: {}\".format(area))"
      ],
      "execution_count": null,
      "outputs": [
        {
          "output_type": "stream",
          "text": [
            "Enter the length of a square5\n",
            "<class 'float'>\n",
            "Area of square is: 25.0\n"
          ],
          "name": "stdout"
        }
      ]
    },
    {
      "cell_type": "markdown",
      "metadata": {
        "id": "t4GgM53cJtil"
      },
      "source": [
        "Question 3:"
      ]
    },
    {
      "cell_type": "code",
      "metadata": {
        "id": "CwpAjeZhJv5P",
        "colab": {
          "base_uri": "https://localhost:8080/",
          "height": 104
        },
        "outputId": "f9a35906-85ef-4e0f-f503-1c2c133827b6"
      },
      "source": [
        "#Prompt the user for their height and weight\n",
        "weight = input (\"Enter your weight\")\n",
        "height = input (\"Enter your height\")\n",
        "#Conver the weight and height (str) into float because string cannot do math operation\n",
        "#Assign it back to weight\n",
        "#Assign it back to height\n",
        "weight = float(weight)\n",
        "height = float(height)\n",
        "#Check the type of float\n",
        "print(type(weight))\n",
        "print(type(height))\n",
        "#Calculate the BMI and store its value for later use\n",
        "BMI = weight/(height * height)\n",
        "print(\"BMI is: {}\". format(BMI))"
      ],
      "execution_count": null,
      "outputs": [
        {
          "output_type": "stream",
          "text": [
            "Enter your weight50\n",
            "Enter your height1.55\n",
            "<class 'float'>\n",
            "<class 'float'>\n",
            "BMI is: 20.811654526534856\n"
          ],
          "name": "stdout"
        }
      ]
    },
    {
      "cell_type": "code",
      "metadata": {
        "id": "UTi1yvJc5gWe"
      },
      "source": [
        "#Prompt the user for their weight\n",
        "weight = input (\"Enter your weight\")\n",
        "weight = float(weight) #convert string to float \n",
        "#Prompt the user for their height\n",
        "height = input (\"Enter your height\")\n",
        "height = float(height) #convert string to float\n",
        "#Calculate the BMI based formula\n",
        "BMI = weight/(height * height)\n",
        "#show the BMI\n",
        "#print(\"Yours BMI is \", BMI)\n",
        "#print(\" Your BMI is\" + str(BMI))\n",
        "print(\"BMI is: {:.2f}\". format(BMI))"
      ],
      "execution_count": null,
      "outputs": []
    },
    {
      "cell_type": "markdown",
      "metadata": {
        "id": "0_rm8LIVLqzX"
      },
      "source": [
        "Question 4:"
      ]
    },
    {
      "cell_type": "code",
      "metadata": {
        "id": "i7aUWYl9Lvqu",
        "colab": {
          "base_uri": "https://localhost:8080/",
          "height": 208
        },
        "outputId": "15d1c33f-d096-4e0b-880a-798ef78e31a6"
      },
      "source": [
        "#pad with 20 asterisks, centre-aligned \n",
        "print(\"***************************************************************\")\n",
        "print(\"Calculate the average of your last 6-months electricity bills\")\n",
        "print(\"***************************************************************\")\n",
        "#Prompt the user for the last 6-months electricity bills\n",
        "Bill1 = input (\"Enter Bill #1: \")\n",
        "Bill2 = input (\"Enter Bill #2: \")\n",
        "Bill3 = input (\"Enter Bill #3: \")\n",
        "Bill4 = input (\"Enter Bill #4: \")\n",
        "Bill5 = input (\"Enter Bill #5: \")\n",
        "Bill6 = input (\"Enter Bill #6: \")\n",
        "#Assign it back to bills\n",
        "Bill1 = float(Bill1)\n",
        "Bill2 = float(Bill2)\n",
        "Bill3 = float(Bill3)\n",
        "Bill4 = float(Bill4)\n",
        "Bill5 = float(Bill5)\n",
        "Bill6 = float(Bill6)\n",
        "#Tell the user the bills used per month\n",
        "print(\"Your electricity bills for the past 6-months are: ${}, ${}, ${}, ${}, ${}, ${}\". format(Bill1, Bill2, Bill3, Bill4, Bill5, Bill6))\n",
        "#Calculate the average of the electricity bills\n",
        "average = (Bill1 + Bill2 + Bill3 + Bill4 + Bill5 + Bill6)/6\n",
        "print(\"The average of your electricity bills is: {}\". format(average))"
      ],
      "execution_count": null,
      "outputs": [
        {
          "output_type": "stream",
          "text": [
            "***************************************************************\n",
            "Calculate the average of your last 6-months electricity bills\n",
            "***************************************************************\n",
            "Enter Bill #1: 156.79\n",
            "Enter Bill #2: 138.67\n",
            "Enter Bill #3: 120.34\n",
            "Enter Bill #4: 179.33\n",
            "Enter Bill #5: 162.1\n",
            "Enter Bill #6: 142.89\n",
            "Your electricity bills for the past 6-months are: $156.79, $138.67, $120.34, $179.33, $162.1, $142.89\n",
            "The average of your electricity bills is: 150.02\n"
          ],
          "name": "stdout"
        }
      ]
    },
    {
      "cell_type": "markdown",
      "metadata": {
        "id": "TVtHQ9hd7LGY"
      },
      "source": [
        "Part 3 - Task 1: Timer"
      ]
    },
    {
      "cell_type": "code",
      "metadata": {
        "id": "pyGGhr1w7Meq",
        "colab": {
          "base_uri": "https://localhost:8080/",
          "height": 52
        },
        "outputId": "206bfcb3-9082-44c8-885e-b67500535ea8"
      },
      "source": [
        "#Prompt for amount of life to waste \n",
        "import time\n",
        "time_to_wait = float(input(\"Enter the number of seconds to count down\"))\n",
        "#Wait for that duration\n",
        "time.sleep(time_to_wait)\n",
        "#Show that the wait has finished\n",
        "print(\"Time is up!\")"
      ],
      "execution_count": null,
      "outputs": [
        {
          "output_type": "stream",
          "text": [
            "Enter the number of seconds to count down2.5\n",
            "Time is up!\n"
          ],
          "name": "stdout"
        }
      ]
    },
    {
      "cell_type": "markdown",
      "metadata": {
        "id": "0SVUcbOL9aj1"
      },
      "source": [
        "Part 3 - Task 3: Days before assignment is due"
      ]
    },
    {
      "cell_type": "code",
      "metadata": {
        "id": "5iHNy94090YU",
        "colab": {
          "base_uri": "https://localhost:8080/",
          "height": 52
        },
        "outputId": "1498b556-9138-4a97-87ad-9597a58929a3"
      },
      "source": [
        "from datetime import datetime\n",
        "from dateutil import relativedelta\n",
        "#1.\tstore the current date in a variable date_today\n",
        "date_today = datetime.today()\n",
        "#2.\tPrompt the user with a message “Please enter the due date of the assignment” \n",
        "#3.\tStore the user’s input in a variable named assignment_duedate\n",
        "due_date = input(\"Please enter the due date of the assignment(dd-mm-yyyy)\")\n",
        "#convert the input to datetime object\n",
        "due_date = datetime.strptime(due_date, \"%d-%m-%Y\")\n",
        "\n",
        "#This will find the difference between the two dates\n",
        "diff = relativedelta.relativedelta(due_date, date_today)\n",
        "#4.\tCalculate the number of months and days between date_today and assignment_duedate, and store the result in the variable number_of_months and number_of_days\n",
        "#5.\tDisplay the result to the user as shown in the diagram below\n",
        "print(\"{} months, {} days till your assignment due\".format(diff.months, diff.days))\n"
      ],
      "execution_count": null,
      "outputs": [
        {
          "output_type": "stream",
          "text": [
            "Please enter the due date of the assignment(dd-mm-yyyy)01-12-2020\n",
            "1 months, 2 days till your assignment due\n"
          ],
          "name": "stdout"
        }
      ]
    },
    {
      "cell_type": "markdown",
      "metadata": {
        "id": "m1iwTWLzQXDU"
      },
      "source": [
        "Task 2: Strings "
      ]
    },
    {
      "cell_type": "code",
      "metadata": {
        "id": "Zz2hlnOTQf_c"
      },
      "source": [
        "#We need the random library(consist of many features (functions) we can use)\n",
        "import random\n",
        "#We use the randint feature in the random library\n",
        "value_1 = random.randint(10,20)\n",
        "random.\n",
        "print(\"The random number is {}\".formate(value_1))"
      ],
      "execution_count": null,
      "outputs": []
    },
    {
      "cell_type": "markdown",
      "metadata": {
        "id": "3VI9ZSHPS03n"
      },
      "source": [
        "Get Date and Time"
      ]
    },
    {
      "cell_type": "code",
      "metadata": {
        "id": "58Ku-_L_S2t9",
        "colab": {
          "base_uri": "https://localhost:8080/",
          "height": 35
        },
        "outputId": "11aacd60-9753-41af-e410-226117dc4924"
      },
      "source": [
        "import datetime\n",
        "\n",
        "date_1 = datetime.datetime.today()\n",
        "\n",
        "type(date_1)\n",
        "\n"
      ],
      "execution_count": null,
      "outputs": [
        {
          "output_type": "execute_result",
          "data": {
            "text/plain": [
              "datetime.datetime"
            ]
          },
          "metadata": {
            "tags": []
          },
          "execution_count": 49
        }
      ]
    },
    {
      "cell_type": "markdown",
      "metadata": {
        "id": "wV1KsmlaISNh"
      },
      "source": [
        "4. Working with python numeric types"
      ]
    },
    {
      "cell_type": "code",
      "metadata": {
        "id": "gNggBIaFIVmP",
        "colab": {
          "base_uri": "https://localhost:8080/",
          "height": 139
        },
        "outputId": "9f86d14c-72a9-4ca7-f1fd-2331f25859e5"
      },
      "source": [
        "#1.\tprompt the user to enter four numbers and store them in the variables n1,n2,n3 and n4\n",
        "n1 = float(input(\"Enter n1:\"))\n",
        "n2 = float(input(\"Enter n2:\"))\n",
        "n3 = float(input(\"Enter n3:\"))\n",
        "n4 = float(input(\"Enter n4:\"))\n",
        "#2.\tadd up the four numbers and store the calculated value in the variable add\n",
        "add = n1 + n2 + n3 + n4\n",
        "#3.\tsubtract n4 from n1 and store the calculated value in the variable difference\n",
        "difference = n4 - n1\n",
        "#4.\tmultiply n2 by n3 and store the calculated value in the variable product\n",
        "product = n2 * n3\n",
        "#5.\tdivide the sum of n1 and n2 by the sum of n3 and n4, and store the calculated value in the variable quotient\n",
        "quotient = (n1 + n2)/(n3 + n4)\n",
        "#6.\tfind the remainder of the product of n1 and n2, divided by the product of n3 and n4 and store in the value remainder\n",
        "remainder = (n1 * n2)%(n3 * n4)\n",
        "#7.\tcalculate n1 to the power of n2 and store in the variable powerI\n",
        "power = n1 ** n2\n",
        "#8.\tprint out the outputs as shown in the diagram below\n",
        "print(\"The 4 numbers are {},{},{},{}\".format(n1,n2,n3,n4))\n",
        "print(\"Sum is {}\".format(add))\n",
        "print(\"The difference is {}\".format(difference))\n",
        "print(\"The quotient is {}\".format(quotient))\n",
        "print(\"The remainder is {}\".format(remainder))\n",
        "print(\"The variable power is {}\".format(power))"
      ],
      "execution_count": null,
      "outputs": [
        {
          "output_type": "stream",
          "text": [
            "Enter n1:2\n",
            "Enter n2:3\n",
            "Enter n3:4\n",
            "Enter n4:5\n",
            "The 4 numbers are 2.0,3.0,4.0,5.0\n",
            "Sum is 14.0\n",
            "The difference is 3.0\n"
          ],
          "name": "stdout"
        }
      ]
    },
    {
      "cell_type": "markdown",
      "metadata": {
        "id": "weeKNkGuKqil"
      },
      "source": [
        "Task 2: Mathematical functions in python"
      ]
    },
    {
      "cell_type": "code",
      "metadata": {
        "id": "vMC4qdXoKw3-",
        "colab": {
          "base_uri": "https://localhost:8080/",
          "height": 87
        },
        "outputId": "638c0f2f-f32b-4b8f-b87f-803cef73e574"
      },
      "source": [
        "import math\n",
        "#1.\tprompt the user to enter four numbers and store them in the variables n1,n2,n3 and n4\n",
        "n1 = float(input(\"Enter n1:\"))\n",
        "n2 = float(input(\"Enter n2:\"))\n",
        "n3 = float(input(\"Enter n3:\"))\n",
        "n4 = float(input(\"Enter n4:\"))\n",
        "#2.\tPerform the following operations on each variable as specified below.\n",
        "#3.\tCalculate the square root of n1 and store the value of the result to a variable n1_squareroot. Print out the ceiling value of n1_squareroot.\n",
        "n1_squareroot = math.sqrt(n1)\n",
        "print(\"The squareroot of {} is {}\".format(n1,n1_squareroot))\n",
        "print(\"The ceiling of {} is {}\".format(n1, math.ceil(n1_squareroot)))\n",
        "#4.\tMultiply n2 by the mathematical value of pi and store the result to a variable n2_times_pi. . Print out the truncated value of n2_times_pi. \n",
        "n2_times_math.pi = n2 * math.pi\n",
        "#5.\tCalculate the value of n3 to the power of n1 and store the result to n3_powerof_n1. Print out the floor value of n3_powerof_n1.\n",
        "n3_powerof_n1 = math.pow(n3,n1)\n",
        "#6.\tCompute the factorial of n4 and store the result to a variable n4_factorial.  Divide n4_factorial by n3  and store the result to n4n3.  Compute the fractional and integer parts of n4n3 and print out their values.\n",
        "n4_factorial = math.factorial(n4)\n",
        "n4n3 = n4_factorial/n3\n",
        "fraction, integer = math.modf(n4n3)\n",
        "print(fraction)\n",
        "print(integer)\n",
        "\n"
      ],
      "execution_count": null,
      "outputs": [
        {
          "output_type": "stream",
          "text": [
            "Enter n1:8\n",
            "Enter n2:6\n",
            "Enter n3:5\n",
            "Enter n4:9\n"
          ],
          "name": "stdout"
        }
      ]
    },
    {
      "cell_type": "markdown",
      "metadata": {
        "id": "zPTphjKhkqJK"
      },
      "source": [
        "5. Working with python strings "
      ]
    },
    {
      "cell_type": "markdown",
      "metadata": {
        "id": "WcH4250_Ki3P"
      },
      "source": [
        "Task 1: Perform basic mathematical calculations"
      ]
    },
    {
      "cell_type": "code",
      "metadata": {
        "id": "CkND5KlxlPwe",
        "colab": {
          "base_uri": "https://localhost:8080/",
          "height": 177
        },
        "outputId": "d479a069-1a24-4498-d99f-02031c53ea3f"
      },
      "source": [
        "#Prompt user to write three string variables\n",
        "s1 = input (\"Enter String 1: \")\n",
        "s2 = input (\"Enter String 2: \")\n",
        "s3 = input (\"Enter String 3: \")\n",
        "#Print out the lengths of all strings\n",
        "s1_length = len(s1)\n",
        "s2_length = len(s2)\n",
        "s3_length = len(s3)\n",
        "print(\"Length of String 1 = {}\".format(s1_length))\n",
        "print(\"Length of String 2 = {}\".format(s2_length))\n",
        "print(\"Length of String 3 = {}\".format(s1_length))\n",
        "#Print s1 in capital letters\n",
        "print(s1.upper())\n",
        "#Prompt user to write 3 string variable\n",
        "if \"a\" in s2:\n",
        "    print(\"The letter a is found in \", s2)\n",
        "else:\n",
        "    print(\"The letter a is not found in \", s2)\n",
        "#Print first 2 letters of s3\n",
        "print(s3[0] + s3[1])\n",
        "\n",
        "\n"
      ],
      "execution_count": null,
      "outputs": [
        {
          "output_type": "stream",
          "text": [
            "Enter String 1: mary had a little lamb \n",
            "Enter String 2: the best is yet to be \n",
            "Enter String 3: this is the question\n",
            "Length of String 1 = 23\n",
            "Length of String 2 = 22\n",
            "Length of String 3 = 23\n",
            "MARY HAD A LITTLE LAMB \n",
            "The letter a is not found in  the best is yet to be \n",
            "th\n"
          ],
          "name": "stdout"
        }
      ]
    },
    {
      "cell_type": "code",
      "metadata": {
        "id": "m5SInkzXSV8F"
      },
      "source": [
        "#Prompt user to write three string variables\n",
        "s1 = input (\"Enter String 1: \")\n",
        "s2 = input (\"Enter String 2: \")\n",
        "s3 = input (\"Enter String 3: \")\n",
        "#Print out the lengths of all strings\n",
        "s1_length = len(s1)\n",
        "s2_length = len(s2)\n",
        "s3_length = len(s3)\n",
        "print(\"Length of String 1 = {}\".format(s1_length))\n",
        "print(\"Length of String 2 = {}\".format(s2_length))\n",
        "print(\"Length of String 3 = {}\".format(s1_length))\n",
        "#Print s1 in capital letters\n",
        "print(s1.upper())\n",
        "#Prompt user to write 3 string variable\n",
        "index = s2.find('a')\n",
        "if (index >= 0):\n",
        "    print(\"The letter a is found in \", s2)\n",
        "else:\n",
        "    print(\"The letter a is not found in \", s2)\n",
        "#Print first 2 letters of s3\n",
        "print(\"The first 2 characters of s3 is {}\".format(s3[0:2]))\n"
      ],
      "execution_count": null,
      "outputs": []
    },
    {
      "cell_type": "markdown",
      "metadata": {
        "id": "8TsIAgV3QzBE"
      },
      "source": [
        "Task 2: Submission Task"
      ]
    },
    {
      "cell_type": "code",
      "metadata": {
        "id": "h-cTT9NsQ21y",
        "colab": {
          "base_uri": "https://localhost:8080/",
          "height": 248
        },
        "outputId": "ed766d4d-350e-436f-95eb-d70285d12a15"
      },
      "source": [
        "#Prompt user to write three string variables of at least 8 letters long\n",
        "txt = input (\"Enter 3 random strings, separated by commas: \")\n",
        "print()\n",
        "\n",
        "#Separate the strings and store the separated strings into three variables, s1, s2 and s3\n",
        "text = txt.split(\", \")\n",
        "s1 = txt.split(\", \")\n",
        "s2 = txt.split(\", \")\n",
        "s3 = txt.split(\", \")\n",
        "s1 = text[0]\n",
        "s2 = text[1]\n",
        "s3 = text[2]\n",
        "#Calculate the length of each string\n",
        "s1_length = len(s1)\n",
        "s2_length = len(s2)\n",
        "s3_length = len(s3)\n",
        "#Print all requirements\n",
        "print(\"s1 is {}\" .format(s1))\n",
        "print(\"The length of {} is {}\".format(s1, s1_length))\n",
        "print(\"The 2nd and 3rd character of {} is {}{}\".format(s1,s1[1],s1[2]))\n",
        "print()\n",
        "\n",
        "print(\"s2 is {}\" .format(s2))\n",
        "print(\"The length of {} is {}\".format(s2, s2_length))\n",
        "print(\"The 5th to 7th character of {} is {}{}{}\".format(s2,s2[4],s2[5],s2[6]))\n",
        "print()\n",
        "\n",
        "print(\"s3 is {}\" .format(s3))\n",
        "print(\"The length of {} is {}\".format(s3, s3_length))\n",
        "print(\"The 2nd and 3rd character of {} is {}{}\".format(s3,s3[-2],s3[-1]))\n",
        "\n",
        "\n"
      ],
      "execution_count": null,
      "outputs": [
        {
          "output_type": "stream",
          "text": [
            "Enter 3 random strings, separated by commas: When Breath becomes Air, The 91-Storey Treehouse, Harry Potter and the Prisoner of Azkaban\n",
            "\n",
            "s1 is When Breath becomes Air\n",
            "The length of When Breath becomes Air is 23\n",
            "The 2nd and 3rd character of When Breath becomes Air is he\n",
            "\n",
            "s2 is The 91-Storey Treehouse\n",
            "The length of The 91-Storey Treehouse is 23\n",
            "The 5th to 7th character of The 91-Storey Treehouse is 91-\n",
            "\n",
            "s3 is Harry Potter and the Prisoner of Azkaban\n",
            "The length of Harry Potter and the Prisoner of Azkaban is 40\n",
            "The 2nd and 3rd character of Harry Potter and the Prisoner of Azkaban is an\n"
          ],
          "name": "stdout"
        }
      ]
    },
    {
      "cell_type": "markdown",
      "metadata": {
        "id": "I27kd0FaN0QQ"
      },
      "source": [
        "6. If-else statements "
      ]
    },
    {
      "cell_type": "markdown",
      "metadata": {
        "id": "SGa3jKU2648J"
      },
      "source": [
        "Task 1 - Odd or Even\n"
      ]
    },
    {
      "cell_type": "code",
      "metadata": {
        "id": "TECdXzIY7KCS",
        "colab": {
          "base_uri": "https://localhost:8080/"
        },
        "outputId": "4a1cbb3a-8c55-456a-b306-3a4bf84c4c24"
      },
      "source": [
        "# Ask the user for a number. \n",
        "n = input(\"Please enter a number\")\n",
        "# If the input is not numeric, \n",
        "if not n.isnumeric():\n",
        "  # display an error message and\n",
        "  print(\"Wrong! It is not a number! Bye!\") \n",
        "  # exit the program. Hint: use the isnumeric() function.\n",
        "if n.isnumeric():\n",
        "# If the input is numeric, \n",
        "  if not (int(n) % 2 == 0):\n",
        "  # check if the number is even or odd and \n",
        "    print(\"Odd\")\n",
        "  else:\n",
        "    print(\"Even\")\n",
        "  # print out an appropriate message to the user.  Hint: Use the % modulus operator which gives the remainder when a number x is divided by another number y.\n"
      ],
      "execution_count": null,
      "outputs": [
        {
          "output_type": "stream",
          "text": [
            "Please enter a number8\n",
            "Even\n"
          ],
          "name": "stdout"
        }
      ]
    },
    {
      "cell_type": "code",
      "metadata": {
        "id": "x5GvO964N7cY",
        "colab": {
          "base_uri": "https://localhost:8080/",
          "height": 121
        },
        "outputId": "dd29666b-cd73-4f31-a310-5844292a85fb"
      },
      "source": [
        "print(\"************************************\")\n",
        "print(\"Section 6: if-else statement\")\n",
        "print(\"************************************\")\n",
        "\n",
        "input_1 = int(input(\"Enter number 1:\"))\n",
        "input_2 = int(input(\"Enter number 2:\"))\n",
        "\n",
        "if input_1 == input_2:\n",
        "  print(\"The two numbers are the same\")\n",
        "else:\n",
        "  print(\"The two numbers are not the same\")"
      ],
      "execution_count": null,
      "outputs": [
        {
          "output_type": "stream",
          "text": [
            "************************************\n",
            "Section 6: if-else statement\n",
            "************************************\n",
            "Enter number 1:2\n",
            "Enter number 2: 20\n",
            "The two numbers are not the same\n"
          ],
          "name": "stdout"
        }
      ]
    },
    {
      "cell_type": "code",
      "metadata": {
        "id": "JAaVWfwZPcWy",
        "colab": {
          "base_uri": "https://localhost:8080/",
          "height": 121
        },
        "outputId": "bf5b1a0a-50bf-46a0-ce9d-22b4b0a39a3b"
      },
      "source": [
        "print(\"************************************\")\n",
        "print(\"Section 6: if-else statement\")\n",
        "print(\"************************************\")\n",
        "\n",
        "input_1 = input(\"Enter number 1:\")\n",
        "input_2 = input(\"Enter number 2:\")\n",
        "\n",
        "if input_1.isnumeric() and input_2.isnumeric():\n",
        "  num_1 = int(input_1)\n",
        "  num_2 = int(input_2)\n",
        "  sum = num_1 + num_2\n",
        "  print(\"The sum of {} and {} is {}\".format(num_1,num_2,sum))\n",
        "else:\n",
        "  print(\"Please enter numeric values only\")\n"
      ],
      "execution_count": null,
      "outputs": [
        {
          "output_type": "stream",
          "text": [
            "************************************\n",
            "Section 6: if-else statement\n",
            "************************************\n",
            "Enter number 1:25\n",
            "Enter number 2:abcd\n",
            "Please enter numeric values only\n"
          ],
          "name": "stdout"
        }
      ]
    },
    {
      "cell_type": "code",
      "metadata": {
        "id": "rL99TicFRgwc",
        "colab": {
          "base_uri": "https://localhost:8080/",
          "height": 87
        },
        "outputId": "21641f81-e02c-424e-ac87-b96652e35f57"
      },
      "source": [
        "print(\"Below is our drinks menu\")\n",
        "print(\"1.Coke 2.Coffee 3.Juice\")\n",
        "drink = int(input(\"Enter your choice of drink:\"))\n",
        "\n",
        "if drink==1:\n",
        "  print(\"Coke is $1.00\")\n",
        "elif drink==2:\n",
        "  print(\"Coffee is $0.50\")\n",
        "elif drink==3:\n",
        "  print(\"Juice is $2.00\")\n",
        "else:\n",
        "  print(\"Sorry, you have entered an invalid choice\")\n",
        "  "
      ],
      "execution_count": null,
      "outputs": [
        {
          "output_type": "stream",
          "text": [
            "Below is our drinks menu\n",
            "1.Coke 2.Coffee 3.Juice\n",
            "Enter your choice of drink:3\n",
            "Juice is $2.00\n"
          ],
          "name": "stdout"
        }
      ]
    },
    {
      "cell_type": "code",
      "metadata": {
        "id": "vpkkpw4STKYr",
        "colab": {
          "base_uri": "https://localhost:8080/",
          "height": 69
        },
        "outputId": "b1208d13-d357-4a7e-c7be-a986d7b39dc4"
      },
      "source": [
        "number = input(\"Enter your choice (1-2):\")\n",
        "staff = input(\"Are you a staff (Y/N)?\")\n",
        "\n",
        "if number==\"1\":\n",
        "  if staff.upper() == \"Y\":\n",
        "    price =5*0.9\n",
        "  else:\n",
        "    price = 5*0.95\n",
        "elif number==\"2\":\n",
        "    if staff.upper() == \"Y\":\n",
        "      price = 10*0.8\n",
        "    else:\n",
        "      price = 10\n",
        "else:\n",
        "      price(\"You did not enter a valid input\")\n",
        "      exit()\n",
        "print(\"Price is ${}\".format(price))"
      ],
      "execution_count": null,
      "outputs": [
        {
          "output_type": "stream",
          "text": [
            "Enter your choice (1-2):1\n",
            "Are you a staff (Y/N)?y\n",
            "Price is $4.5\n"
          ],
          "name": "stdout"
        }
      ]
    },
    {
      "cell_type": "code",
      "metadata": {
        "id": "w7CXYmh2U6ZT",
        "colab": {
          "base_uri": "https://localhost:8080/",
          "height": 104
        },
        "outputId": "47b1d5a0-af32-46a1-998e-fa6b39b4af0a"
      },
      "source": [
        "print(\"************************************\")\n",
        "print(\"Section 6: if-else statement\")\n",
        "print(\"************************************\")\n",
        "\n",
        "input_1 = str(input(\"Enter a number:\"))\n",
        "if input_1.isnumeric():\n",
        "  num = int(input_1)\n",
        "  if (num%2) == 0:\n",
        "    print(\"{} is even\".format(num))\n",
        "  else:\n",
        "    print(\"{} is odd\".format(num))\n",
        "else:\n",
        "  print(\"You did not enter a number\")"
      ],
      "execution_count": null,
      "outputs": [
        {
          "output_type": "stream",
          "text": [
            "************************************\n",
            "Section 6: if-else statement\n",
            "************************************\n",
            "Enter a number:avc\n",
            "You did not enter a number\n"
          ],
          "name": "stdout"
        }
      ]
    },
    {
      "cell_type": "markdown",
      "metadata": {
        "id": "wLDPPsLUadCd"
      },
      "source": [
        "6. Task 3"
      ]
    },
    {
      "cell_type": "code",
      "metadata": {
        "id": "RIR_VZN-XEQ_",
        "colab": {
          "base_uri": "https://localhost:8080/",
          "height": 139
        },
        "outputId": "d5c8a38f-0dc2-448a-8b78-3415fbb7e0ff"
      },
      "source": [
        "print(\"Welcome to Spondals!\")\n",
        "print(\"Below is our Breakfast menu:\")\n",
        "print(\"1.SPMuffin ($5.00)  2.SPancakes ($3.00)  3.SPHashbrown ($1.50)\")\n",
        "choice = int(input(\"Enter your choice of food: \"))\n",
        "\n",
        "\n",
        "if choice==1:\n",
        "  print(\"SPMuffin $5.00 added!\")\n",
        "  num_spmuffin = int(input(\"How many SPMuffins do you want to order?: \"))\n",
        "  totalcost = num_spmuffin*5\n",
        "  print(\"The total cost for {} SPMuffins is ${}\".format(num_spmuffin,totalcost))\n",
        "\n",
        "elif choice==2:\n",
        "  print(\"SPancakes $3.00 added!\")\n",
        "  num_spancakes = int(input(\"How many SPancakes do you want to order?: \"))\n",
        "  totalcost = num_spancakes*3\n",
        "  print(\"The total cost for {} SPancakes is ${}\".format(num_spancakes,totalcost))\n",
        "\n",
        "elif choice==3:\n",
        "  print(\"SPHashbrown $1.50 added!\")\n",
        "  num_sphashbrown = int(input(\"How many SPHashbrown do you want to order?: \"))\n",
        "  totalcost = num_sphashbrown*1.5\n",
        "  print(\"The total cost for {} SPHashbrown is ${}\".format(num_sphashbrown,totalcost))\n",
        "\n",
        "else:\n",
        "  print(\"Sorry, you have entered an invalid choice\")\n",
        "  print(\"Unable to continue. Exiting the program....\")\n",
        "  exit()"
      ],
      "execution_count": null,
      "outputs": [
        {
          "output_type": "stream",
          "text": [
            "Welcome to Spondals!\n",
            "Below is our Breakfast menu:\n",
            "1.SPMuffin ($5.00)  2.SPancakes ($3.00)  3.SPHashbrown ($1.50)\n",
            "Enter your choice of food: 2\n",
            "SPancakes $3.00 added!\n",
            "How many SPancakes do you want to order?: 50\n",
            "The total cost for 50 SPancakes is $150\n"
          ],
          "name": "stdout"
        }
      ]
    },
    {
      "cell_type": "markdown",
      "metadata": {
        "id": "Yo2PYM2AbfJl"
      },
      "source": [
        "7. For loop\n"
      ]
    },
    {
      "cell_type": "code",
      "metadata": {
        "id": "TUL2OiZ9-yKu"
      },
      "source": [
        "Task 1: Repeat a user-specified message"
      ],
      "execution_count": null,
      "outputs": []
    },
    {
      "cell_type": "code",
      "metadata": {
        "id": "sicNF54w-1WU",
        "colab": {
          "base_uri": "https://localhost:8080/"
        },
        "outputId": "f9ee3dfc-344f-48e2-96a6-3270b4cf4f06"
      },
      "source": [
        "#ask the user for a message \n",
        "str = input(\"Please enter a message\")\n",
        "#the number of times they want it displayed \n",
        "n = input(\"Please enter the number of times to repeat\")\n",
        "#then ouput the no of time to repeat\n",
        "for i in range(0,int(n),1):\n",
        "  print(str)"
      ],
      "execution_count": null,
      "outputs": [
        {
          "output_type": "stream",
          "text": [
            "Please enter a messagehello girl\n",
            "Please enter the number of times to repeat5\n",
            "hello girl\n",
            "hello girl\n",
            "hello girl\n",
            "hello girl\n",
            "hello girl\n"
          ],
          "name": "stdout"
        }
      ]
    },
    {
      "cell_type": "code",
      "metadata": {
        "id": "YAaBMoNObgly",
        "colab": {
          "base_uri": "https://localhost:8080/",
          "height": 104
        },
        "outputId": "39e6e9aa-a39d-48cc-f97e-7508cc85139c"
      },
      "source": [
        "for counter in range(0,5):\n",
        "  print(\"hello world\")"
      ],
      "execution_count": null,
      "outputs": [
        {
          "output_type": "stream",
          "text": [
            "hello world\n",
            "hello world\n",
            "hello world\n",
            "hello world\n",
            "hello world\n"
          ],
          "name": "stdout"
        }
      ]
    },
    {
      "cell_type": "code",
      "metadata": {
        "id": "J5nZa00BbobR",
        "colab": {
          "base_uri": "https://localhost:8080/",
          "height": 104
        },
        "outputId": "ff74cd51-3b8b-477e-9c4e-9c1d039f1558"
      },
      "source": [
        "counter = 0\n",
        "while counter < 5:\n",
        "  print(\"hello world\")\n",
        "  counter += 1"
      ],
      "execution_count": null,
      "outputs": [
        {
          "output_type": "stream",
          "text": [
            "hello world\n",
            "hello world\n",
            "hello world\n",
            "hello world\n",
            "hello world\n"
          ],
          "name": "stdout"
        }
      ]
    },
    {
      "cell_type": "code",
      "metadata": {
        "id": "ZaGV5MCCb6Mw",
        "colab": {
          "base_uri": "https://localhost:8080/",
          "height": 225
        },
        "outputId": "f9b31b59-c2d3-46b9-8091-a2534245ea59"
      },
      "source": [
        "message = input(\"Enter the message you want to repeat:\")\n",
        "times = int(input(\"Enter the number of times you want to repeat this message:\"))\n",
        "\n",
        "for counter in range(0, times):\n",
        "  print(message)"
      ],
      "execution_count": null,
      "outputs": [
        {
          "output_type": "stream",
          "text": [
            "Enter the message you want to repeat:oioi\n",
            "Enter the number of times you want to repeat this message:10\n",
            "oioi\n",
            "oioi\n",
            "oioi\n",
            "oioi\n",
            "oioi\n",
            "oioi\n",
            "oioi\n",
            "oioi\n",
            "oioi\n",
            "oioi\n"
          ],
          "name": "stdout"
        }
      ]
    },
    {
      "cell_type": "markdown",
      "metadata": {
        "id": "wjce6YXsc5u8"
      },
      "source": [
        "7. Task 4"
      ]
    },
    {
      "cell_type": "code",
      "metadata": {
        "id": "1fCvtwzuc8PR",
        "colab": {
          "base_uri": "https://localhost:8080/",
          "height": 104
        },
        "outputId": "947d08b7-ba6a-4783-ead4-fbcd6225a1d4"
      },
      "source": [
        "print(\"This program prints the sum of a range of numbers from x to y\")\n",
        "print(\"For example, if x is 10 and y is 50, the program will print the sum of numbers from 10 to 50\")\n",
        "\n",
        "valuex_str = input(\"Please enter the value of x:\")\n",
        "valuey_str = input(\"Please enter the value of y:\")\n",
        "\n",
        "if valuex_str.isnumeric() and valuey_str.isnumeric():\n",
        "  valuex = int(valuex_str)\n",
        "  valuey = int(valuey_str)\n",
        "  if valuex > 0 and valuey > 0:\n",
        "    sum_of_numbers = 0\n",
        "    if valuey > valuex:\n",
        "      x = valuex\n",
        "      for x in range(valuex, valuey+1):\n",
        "        sum_of_numbers += x\n",
        "      print(\"The sum of numbers between {} and {} is {}\".format(valuex, valuey, sum_of_numbers))\n",
        "    else:\n",
        "      print(\"You did not enter a value of y that is greater than x\")\n",
        "      print(\"Unable to continue. Program terminated\")\n",
        "  else:\n",
        "    print(\"One or more of your inputs are not greater than zero\")\n",
        "    print(\"Unable to continue. Program terminated\")\n",
        "else: \n",
        "  print(\"One or more of your inputs are not numeric!\")\n",
        "  print(\"Unable to continue. Program terminated\")\n",
        "\n"
      ],
      "execution_count": null,
      "outputs": [
        {
          "output_type": "stream",
          "text": [
            "This program prints the sum of a range of numbers from x to y\n",
            "For example, if x is 10 and y is 50, the program will print the sum of numbers from 10 to 50\n",
            "Please enter the value of x:50\n",
            "Please enter the value of y:100\n",
            "The sum of numbers between 50 and 100 is 3825\n"
          ],
          "name": "stdout"
        }
      ]
    },
    {
      "cell_type": "markdown",
      "metadata": {
        "id": "PCbn0-K3AllY"
      },
      "source": [
        "8. While loop"
      ]
    },
    {
      "cell_type": "markdown",
      "metadata": {
        "id": "eaW7Hv1YAnkM"
      },
      "source": [
        "Task 1: Countdown timer"
      ]
    },
    {
      "cell_type": "code",
      "metadata": {
        "id": "jbpnqo09Apgr",
        "colab": {
          "base_uri": "https://localhost:8080/"
        },
        "outputId": "6859897c-3563-4456-90df-ffd788fb5f88"
      },
      "source": [
        "#prompt the user to enter the number of seconds he wishes to count down\n",
        "n = int(input(\"Please enter the no. of seconds to count down\"))\n",
        "#indicate how long there is to go before time runs out\n",
        "#I\n",
        "count = n\n",
        "#C\n",
        "while(count>0):\n",
        "#U\n",
        "  print(count)\n",
        "  count -= 1\n",
        "#when time runs out it should idsplay \"time is up!\"\n",
        "print(\"Time is up!\")"
      ],
      "execution_count": null,
      "outputs": [
        {
          "output_type": "stream",
          "text": [
            "Please enter the no. of seconds to count down5\n",
            "5\n",
            "4\n",
            "3\n",
            "2\n",
            "1\n",
            "Time is up!\n"
          ],
          "name": "stdout"
        }
      ]
    },
    {
      "cell_type": "markdown",
      "metadata": {
        "id": "RdCMHfGyCtyl"
      },
      "source": [
        "Task 2: High low number game"
      ]
    },
    {
      "cell_type": "code",
      "metadata": {
        "id": "tsuRNSobCx47",
        "colab": {
          "base_uri": "https://localhost:8080/"
        },
        "outputId": "0fb19282-2717-4509-e01b-ae08d900b2d2"
      },
      "source": [
        "import random\n",
        "# •\tAsk the user to select the lower limit and the upper limit that the random number should be generated within\n",
        "low = input(\"Enter lower limit :\")\n",
        "high = input(\"Enter upper limit :\")\n",
        "# •\tAfter obtaining the lower and upper limits, generate a random number between \n",
        "#   that range, and store it in a variable named secret_number\n",
        "r = random.randint(int(low),int(high))\n",
        "# •\tWrite a loop that repeatedly performs the following actions until\n",
        "# the user guesses the random number correctly\n",
        "guess = 0\n",
        "while not guess == r:\n",
        "  # a.\tPrompt the user to guess the value of the number\n",
        "  guess = int(input(\"Guess a number between \" + low + \" and \" + high + \" : \"))\n",
        "  # b.\tIf his guess is higher than the actual random number, print “Too high”\n",
        "  if guess > r:\n",
        "    print(\"Too high\")\n",
        "  # c.\tIf his guess is lower than the actual random number, print “Too low”\n",
        "  if guess < r:\n",
        "    print(\"Too low\")\n",
        "  # d.\tIf his guess is equal to the random number, print “You are right!” and exit the loop\n",
        "  if guess == r:\n",
        "    print(\"You are right\")"
      ],
      "execution_count": null,
      "outputs": [
        {
          "output_type": "stream",
          "text": [
            "Enter lower limit :1\n",
            "Enter upper limit :5\n",
            "Guess a number between 1 and 5 : 3\n",
            "You are right\n"
          ],
          "name": "stdout"
        }
      ]
    },
    {
      "cell_type": "markdown",
      "metadata": {
        "id": "RJf6R6LqHVFZ"
      },
      "source": [
        "9. Python Lists "
      ]
    },
    {
      "cell_type": "markdown",
      "metadata": {
        "id": "wjtLN0QAHX6H"
      },
      "source": [
        "Task 1: Lists (Elements less than 5)"
      ]
    },
    {
      "cell_type": "code",
      "metadata": {
        "id": "0f78JuMaHZtH"
      },
      "source": [
        "number = [] #create an empty list object\n",
        "#prompts the user to enter a list of 10 numbers\n",
        "for i in range(1,10):\n",
        "  n = input(\"Enter a number {}: \".format(i))\n",
        "  number[i] = int(i)\n",
        "#prints out the maximum and minimum values that were entered \n",
        "print(number)\n",
        "#print out the list in sorted reverse order (highest numbers first)"
      ],
      "execution_count": null,
      "outputs": []
    },
    {
      "cell_type": "code",
      "metadata": {
        "id": "mwC6xTpkRDOp",
        "colab": {
          "base_uri": "https://localhost:8080/"
        },
        "outputId": "59b1d87c-ce7d-4d1a-a68c-555a49f144bb"
      },
      "source": [
        "# Given:\n",
        "a = [1, 1, 2, 3, 5, 8, 13, 21, 34, 55, 89]\n",
        "print (\"Given : \",a)\n",
        "# prints out all the elements of the list that are less than 5.\n",
        "print(\"Items < 5\")\n",
        "for n in a:\n",
        "  if n < 5:\n",
        "    print(n)"
      ],
      "execution_count": null,
      "outputs": [
        {
          "output_type": "stream",
          "text": [
            "Given :  [1, 1, 2, 3, 5, 8, 13, 21, 34, 55, 89]\n",
            "Items < 5\n",
            "1\n",
            "1\n",
            "2\n",
            "3\n"
          ],
          "name": "stdout"
        }
      ]
    },
    {
      "cell_type": "markdown",
      "metadata": {
        "id": "VByOvnLVS4Ip"
      },
      "source": [
        "Task 2: Lists (max, min, sorted, reverse)"
      ]
    },
    {
      "cell_type": "code",
      "metadata": {
        "id": "bWFjMaFYRFAw"
      },
      "source": [
        "number = [] # define a 2list object\n",
        "# prompts the user to enter a list of 10 numbers\n",
        "for i in range(1,11):\n",
        "  n = input(\"enter a number {} : \".format(i))\n",
        "  number.append(int(n))\n",
        "# prints out the maximum and minimum values that were entered.\n",
        "print(\"Max: {}\".format(max(number)))\n",
        "print(\"Min: {}\".2format(min(number)))\n",
        "# print out the list in sorted reverse order (highest numbers first)\n",
        "number.sort()\n",
        "number.reverse()\n",
        "print(\"Sorted in reverse :\", number)"
      ],
      "execution_count": null,
      "outputs": []
    },
    {
      "cell_type": "markdown",
      "metadata": {
        "id": "VIuodslZSxSi"
      },
      "source": [
        "Task 3: List Slicing"
      ]
    },
    {
      "cell_type": "code",
      "metadata": {
        "id": "f7s_iaftRSwf"
      },
      "source": [
        "list_1 = [300,50,80,90,199,800,74,33]\n",
        "list_2 = ['Apple','Banana','Durian','Grapes','Papaya','Watermelon']\n",
        "list_3 = [0.0, 1.1, 2.2, 3.3, 4.4, 5.5, 6.6, 7.7, 8.8,9.9]\n",
        "\n",
        "(a)\tThe numbers 800, 74 and 33 in list_1\n",
        "(b)\tThe last two elements in list_2\n",
        "(c)\tAll the elements in list_3 except the first and the last\n"
      ],
      "execution_count": null,
      "outputs": []
    },
    {
      "cell_type": "code",
      "metadata": {
        "id": "ZrmsfxKMSJr4",
        "colab": {
          "base_uri": "https://localhost:8080/"
        },
        "outputId": "697f9b74-46ff-485e-e0f7-8f9233ea22a0"
      },
      "source": [
        "list_1 = [300,50,80,90,199,800,74,33]\n",
        "list_2 = ['Apple','Banana','Durian','Grapes','Papaya','Watermelon']\n",
        "list_3 = [0.0, 1.1, 2.2, 3.3, 4.4, 5.5, 6.6, 7.7, 8.8,9.9]\n",
        "\n",
        "# (a)\tThe numbers 800, 74 and 33 in list_1\n",
        "print(list_1[5:8])\n",
        "# (b)\tThe last two elements in list_2\n",
        "print(list_2[-2:])\n",
        "# (c)\tAll the elements in list_3 except the first and the last\n",
        "print(list_3[1:-1])"
      ],
      "execution_count": null,
      "outputs": [
        {
          "output_type": "stream",
          "text": [
            "[800, 74, 33]\n",
            "['Papaya', 'Watermelon']\n",
            "[1.1, 2.2, 3.3, 4.4, 5.5, 6.6, 7.7, 8.8]\n"
          ],
          "name": "stdout"
        }
      ]
    },
    {
      "cell_type": "markdown",
      "metadata": {
        "id": "X5hyS02hTAQY"
      },
      "source": [
        "Task 4: BMI"
      ]
    },
    {
      "cell_type": "code",
      "metadata": {
        "id": "biouWRSxTCw_"
      },
      "source": [
        "list_students1 = ['Ann', 'Brandon', 'Christine', 'Daniel', 'Eileen', 'Francis', 'Gloria', 'Henry', 'Irene', 'John']\n",
        "list_weights1 = [45, 90, 52, 75, 48, 65, 60, 85, 49, 100]  \n",
        "list_heights1 = [1.54, 1.85, 1.66, 1.75, 1.58, 1.71, 1.68, 1.78, 1.62, 1.88]\n",
        "\n",
        "#1)\tuse a for loop to prompt the user to enter the names, weights and heights of 5 more students, storing the inputs into the list_students2, list_weights2 and list_heights2 variables respectively\n",
        "\n",
        "list_students2 = []\n",
        "list_heights2 = []\n",
        "list_weights2 = []\n",
        "\n",
        "for i in range(1,6):\n",
        "  name = input(\"Enter name for studnet {} :\".format(i))\n",
        "  weight = float(input(\"Enter weight for studnet {} :\".format(i)))\n",
        "  height = float(input(\"Enter height for studnet {} :\".format(i)))\n",
        "\n",
        "  list_student2.append(name)\n",
        "  list_heights2.append(height)\n",
        "  list_weights2.append(weight)\n",
        "#2)\tcombine list_students1 and list_students2 into a single list named list_students_all\n",
        "list_students_all = list_students1 + list_students2\n",
        "#3)\tcombine list_weights1 and list_weights2 into a single list named list_weights_all\n",
        "list_weights_all = list_weights1 + list_weight2\n",
        "#4)\tcombine list_heights1 and list_heights2 into a single list named list_heights_all\n",
        "list_heights_all = list_height1 + list_height2\n",
        "#5)\tuse a for loop to calculate the BMIs of the 15 students, and store them in a list variable named list_bmis_all. (BMI is obtained by weight/height2)\n",
        "list_bmis_all = []\n",
        "for i in range(lens(list_students_all)):\n",
        "  bmi = list_weight_all[i]/(list_heights_all[i]**2)\n",
        "  list_bmis_all.append(bmi)\n",
        "#6)\tprint out the student with the highest BMI and lowest BMI as shown\n",
        "print(\"MAX: {}\".format(max(list_bmis)))\n",
        "print(\"MIN: {}\".format(min(list_bmis)))"
      ],
      "execution_count": null,
      "outputs": []
    },
    {
      "cell_type": "code",
      "metadata": {
        "id": "HsWCmkISXoaC"
      },
      "source": [
        ""
      ],
      "execution_count": null,
      "outputs": []
    },
    {
      "cell_type": "markdown",
      "metadata": {
        "id": "Guemsb9jmPb2"
      },
      "source": [
        "10. Python Function\n"
      ]
    },
    {
      "cell_type": "markdown",
      "metadata": {
        "id": "b1M7cJ3kY-vR"
      },
      "source": [
        "Task 1: Scissors Paper Stone"
      ]
    },
    {
      "cell_type": "code",
      "metadata": {
        "id": "GqrsBEdoZBGr"
      },
      "source": [
        "#Scissor Paper Stone\n",
        "def compare(s1, s2):\n",
        "  if s1 == s2:\n",
        "    return \"It's a tie!!\", False\n",
        "  elif s1 == 'scissors' and s2 == 'paper':\n",
        "    return 'Scissors wins!!', False\n",
        "  elif s1 == 'scissors' and s2 == 'stone':\n",
        "    return 'Scissors wins!!', False\n",
        "  elif s1 == 'paper' and s2 == 'scissors':\n",
        "    return 'Scissors wins!!', False\n",
        "  elif s1 == 'paper' and s2 == 'stone':\n",
        "    return 'Paper wins!!', False\n",
        "  elif s1 == 'stone' and s2 == 'paper':\n",
        "    return 'Paper wins!!', False\n",
        "  elif s1 == 'stone' and s2 == 'scissors':\n",
        "    return 'Stone wins!!', False\n",
        "  elif s1 == 'quit' and s2 == 'quit':\n",
        "    return 'Quit!', True\n",
        "  elif s1 == 'scissors' and s2 == 'paper':\n",
        "    return 'Scissors wins!!', False"
      ],
      "execution_count": null,
      "outputs": []
    },
    {
      "cell_type": "code",
      "metadata": {
        "id": "C-BGUAM4ajOV"
      },
      "source": [
        "compare('scissors', 'paper')"
      ],
      "execution_count": null,
      "outputs": []
    },
    {
      "cell_type": "markdown",
      "metadata": {
        "id": "OP1Vmn57Y8mS"
      },
      "source": [
        "Task 2"
      ]
    },
    {
      "cell_type": "code",
      "metadata": {
        "id": "beDSIyymmSq0",
        "colab": {
          "base_uri": "https://localhost:8080/",
          "height": 141
        },
        "outputId": "0ee60662-b11b-47be-84fd-5cc8408efc39"
      },
      "source": [
        "import random\n",
        "original_list = [random.randint(1,1000) for x in range(0,100)]\n",
        "odd_numbers = []\n",
        "even_numbers = []\n",
        "\n",
        "def oddandeven(numbers_list):\n",
        "  for i in numbers_list:\n",
        "    if (i % 2 == 0):\n",
        "      even_numbers.append(i)\n",
        "    else:\n",
        "      odd_numbers.append(i)\n",
        "\n",
        "# Run function \n",
        "oddandeven(original_list)\n",
        "\n",
        "print(\"Original List: {}\".format(original_list))\n",
        "print()\n",
        "print(\"Odd: {}\".format(odd_numbers))\n",
        "print()\n",
        "print(\"Even: {}\".format(even_numbers))\n",
        "print()"
      ],
      "execution_count": null,
      "outputs": [
        {
          "output_type": "stream",
          "text": [
            "Original List: [922, 15, 930, 517, 775, 703, 129, 758, 472, 592, 725, 628, 910, 683, 653, 701, 318, 776, 291, 120, 57, 441, 484, 565, 612, 367, 289, 561, 682, 317, 427, 853, 150, 996, 188, 802, 818, 371, 393, 715, 454, 291, 196, 379, 974, 953, 864, 333, 422, 866, 43, 699, 848, 807, 522, 970, 170, 811, 682, 233, 941, 997, 745, 591, 645, 353, 843, 746, 53, 169, 830, 838, 103, 612, 160, 395, 463, 125, 433, 78, 957, 97, 723, 942, 711, 859, 744, 468, 670, 454, 452, 536, 581, 964, 116, 547, 218, 705, 881, 931]\n",
            "\n",
            "Odd: [15, 517, 775, 703, 129, 725, 683, 653, 701, 291, 57, 441, 565, 367, 289, 561, 317, 427, 853, 371, 393, 715, 291, 379, 953, 333, 43, 699, 807, 811, 233, 941, 997, 745, 591, 645, 353, 843, 53, 169, 103, 395, 463, 125, 433, 957, 97, 723, 711, 859, 581, 547, 705, 881, 931]\n",
            "\n",
            "Even: [922, 930, 758, 472, 592, 628, 910, 318, 776, 120, 484, 612, 682, 150, 996, 188, 802, 818, 454, 196, 974, 864, 422, 866, 848, 522, 970, 170, 682, 746, 830, 838, 612, 160, 78, 942, 744, 468, 670, 454, 452, 536, 964, 116, 218]\n",
            "\n"
          ],
          "name": "stdout"
        }
      ]
    },
    {
      "cell_type": "markdown",
      "metadata": {
        "id": "2je4Rg_y4M8M"
      },
      "source": [
        "Lesson 3: Reading files"
      ]
    },
    {
      "cell_type": "code",
      "metadata": {
        "id": "CAC0e0774QOF"
      },
      "source": [
        "f = open('d:/notes.txt','r')\n",
        "contents = f.read() #read entire file\n",
        "print(contents)\n",
        "f.close()\n",
        "\n",
        "\n",
        "f = open('d:/notes.txt','r')\n",
        "firstline = f.readline() #read first line only \n",
        "print(firstline)\n",
        "f.clost()\n",
        "\n",
        "from datetime import datetiime\n",
        "f= open('d:/notes.txt','a')\n",
        "f.write(str(datetime.now()))\n",
        "f.close\n",
        "\n",
        "f = open('dL/notes,txt', 'w')\n",
        "f.write('This is a test\\n')\n",
        "f.close()\n",
        "\n"
      ],
      "execution_count": null,
      "outputs": []
    },
    {
      "cell_type": "code",
      "metadata": {
        "id": "ypr8WR0j5Mk4"
      },
      "source": [
        "filename = \"data/file1.txt\"\n",
        "\n",
        "with open(filename) as f:\n",
        "  lines = f.readlines()\n",
        "\n",
        "lines_list = [line.strip() for line in lines]\n",
        "lines_list_new = []\n",
        "\n",
        "f = open(\"data/file2.txt\", 'w')\n",
        "\n",
        "for i in range(0,len(lines_list),3):\n",
        "  line = lines[i]\n",
        "  f.write(\"{}\".formate(line))\n",
        "\n",
        "f.close()\n"
      ],
      "execution_count": null,
      "outputs": []
    },
    {
      "cell_type": "code",
      "metadata": {
        "id": "E29r43hW5oml"
      },
      "source": [
        "try:\n",
        "  f = open('myfile.txt')\n",
        "  s = f.readline()\n",
        "  i = int(s.strip())\n",
        "except OSError as err:\n",
        "  print(\"OS error: {0}\").format(err)\n",
        "except ValueError:\n",
        "  print(\"Could not convert data to an integer\")\n",
        "except:\n",
        "  print(\"Unexpected error:\",sys.exec_info()[0])\n"
      ],
      "execution_count": null,
      "outputs": []
    },
    {
      "cell_type": "code",
      "metadata": {
        "id": "DPyibSPp8Q-D"
      },
      "source": [
        "#Scissor Paper Stone\n",
        "def compare(s1, s2):\n",
        "  if s1 == s2:\n",
        "    return \"It's a tie!!\", False\n",
        "  elif s1 == 'scissors' and s2 == 'paper':\n",
        "    return 'Scissors wins!!', False\n",
        "  elif s1 == 'scissors' and s2 == 'stone':\n",
        "    return 'Scissors wins!!', False\n",
        "  elif s1 == 'paper' and s2 == 'scissors':\n",
        "    return 'Scissors wins!!', False\n",
        "  elif s1 == 'paper' and s2 == 'stone':\n",
        "    return 'Paper wins!!', False\n",
        "  elif s1 == 'stone' and s2 == 'paper':\n",
        "    return 'Paper wins!!', False\n",
        "  elif s1 == 'stone' and s2 == 'scissors':\n",
        "    return 'Stone wins!!', False\n",
        "  elif s1 == 'quit' or s2 == 'quit':\n",
        "    return 'Quit!', True\n",
        "  else:\n",
        "    return 'Invalid Input!, Try again', False"
      ],
      "execution_count": null,
      "outputs": []
    },
    {
      "cell_type": "code",
      "metadata": {
        "id": "-cfJjjHw8lnd",
        "colab": {
          "base_uri": "https://localhost:8080/"
        },
        "outputId": "f19b8ed8-d981-41bd-9851-d2f7b15cb391"
      },
      "source": [
        "compare('scissors','paper')"
      ],
      "execution_count": null,
      "outputs": [
        {
          "output_type": "execute_result",
          "data": {
            "text/plain": [
              "('Scissors wins!!', False)"
            ]
          },
          "metadata": {
            "tags": []
          },
          "execution_count": 13
        }
      ]
    },
    {
      "cell_type": "code",
      "metadata": {
        "id": "a58IDpr96vVh",
        "colab": {
          "base_uri": "https://localhost:8080/"
        },
        "outputId": "b5d73340-2010-4e97-ce64-5dee192e05af"
      },
      "source": [
        "#SPS Game\n",
        "#Prompt player 1 for name\n",
        "player1 = input(\"Please enter your name\")\n",
        "#Prompt player 2 for name\n",
        "player2 = input(\"Please enter your name\")\n",
        "\n",
        "quit = False #I\n",
        "while not quit: #C33\n",
        "  #Prompt player 1 for input\n",
        "  p1_input = input(\"{},enter your input\".format(player1))\n",
        "  #Prompt player 2 for input \n",
        "  p2_input = input(\"{},enter your input\".format(player2))\n",
        "  #Compare the inputs\n",
        "  results, quit = compare(p1_input, p2_input) #U\n",
        "  #Show the results\n",
        "  print(results)"
      ],
      "execution_count": null,
      "outputs": [
        {
          "output_type": "stream",
          "text": [
            "Please enter your nameA\n",
            "Please enter your nameB\n",
            "A,enter your inputquit\n",
            "B,enter your inputpaper\n",
            "Invalid Input!, Try again\n"
          ],
          "name": "stdout"
        }
      ]
    },
    {
      "cell_type": "markdown",
      "metadata": {
        "id": "SMVIbRFC_qCy"
      },
      "source": [
        "Reading a file"
      ]
    },
    {
      "cell_type": "code",
      "metadata": {
        "id": "K2SHnLo__q9z"
      },
      "source": [
        "#Prompt for the file path\n",
        "fn = input(\"Enter the file path:\")\n",
        "#Open the file for reading \n",
        "f = open(fn, 'r')\n",
        "#Keep tag of number of values \n",
        "#Keep tag if the sum of values \n",
        "sum = 0\n",
        "\n",
        "#Get every single line from the file and add to no_of_value \n",
        "for 1 in f:\n",
        "  no_of_value +=1\n",
        "  sum += int(1) \n",
        "\n",
        "#display the tags \n",
        "print(\"{} contains {} values\".format(fn,no_of_value))\n",
        "print(\"Sum of values is {}\".format(sum))\n",
        "\n",
        "#close the file\n",
        "f.close()"
      ],
      "execution_count": null,
      "outputs": []
    },
    {
      "cell_type": "markdown",
      "metadata": {
        "id": "CBWQ1jfTCbUL"
      },
      "source": [
        "Task 2: Read data from data.gov.sg "
      ]
    },
    {
      "cell_type": "code",
      "metadata": {
        "id": "D6lGAMjLCeDL"
      },
      "source": [
        "fn = '/content/drive/My Drive/Datasets/public-transport-journeys.csv'\n",
        "#open the file for reading\n",
        "f = open(fn,'r')\n",
        "#keep tag of rows,year,journeys,avg\n",
        "rows= 0\n",
        "years = []\n",
        "journeys = []\n",
        "avg = []\n",
        "\n",
        "#Get every single line from the file and add to no_of_value\n",
        "for l in f:\n",
        "  rows += 1\n",
        "  if rows != 1:\n",
        "    #Extract values in each line\n",
        "    values = l.split(',')\n",
        "    years.append(values[0])\n",
        "    journeys.append(int(values[1]))\n",
        "    avg.append(float(values[2].rstrip(\"\\n\")))\n",
        "print(journeys)\n",
        "\n",
        "#Show result\n",
        "print(\"{} contain {} rows\".format(fn,rows))\n",
        "m = max(journeys)\n",
        "i = journeys.index(m)\n",
        "print(\"Year {} has max journey of {}\".format(years[i],m))"
      ],
      "execution_count": null,
      "outputs": []
    }
  ]
}